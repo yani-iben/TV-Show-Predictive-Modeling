{
  "cells": [
    {
      "cell_type": "markdown",
      "metadata": {
        "id": "7hEZyBl5mDJI"
      },
      "source": [
        "# Marketing Analytics Team 4 Emily in Paris Notebook\n",
        "\n",
        "### Team members:\n",
        "- Jenny Dong, Helen Lin, Michelle Park, Yani Iben\n",
        "\n",
        "**Project objective**\n",
        "- Increasing Emily in Paris audience viewership for Season 5, as the production team has observed declining viewership and ratings"
      ]
    },
    {
      "cell_type": "markdown",
      "metadata": {
        "id": "jHSxaJ82gGWY"
      },
      "source": [
        "## Importing libraries"
      ]
    },
    {
      "cell_type": "code",
      "execution_count": null,
      "metadata": {
        "colab": {
          "base_uri": "https://localhost:8080/"
        },
        "id": "x7gflVGAkO3k",
        "outputId": "7eb216d1-915e-4ff6-e557-78edece350ca"
      },
      "outputs": [
        {
          "output_type": "stream",
          "name": "stdout",
          "text": [
            "Collecting nrclex\n",
            "  Downloading NRCLex-4.0-py3-none-any.whl.metadata (3.2 kB)\n",
            "Requirement already satisfied: textblob in /usr/local/lib/python3.10/dist-packages (from nrclex) (0.17.1)\n",
            "INFO: pip is looking at multiple versions of nrclex to determine which version is compatible with other requirements. This could take a while.\n",
            "  Downloading NRCLex-3.0.0.tar.gz (396 kB)\n",
            "\u001b[2K     \u001b[90m━━━━━━━━━━━━━━━━━━━━━━━━━━━━━━━━━━━━━━━━\u001b[0m \u001b[32m396.4/396.4 kB\u001b[0m \u001b[31m17.9 MB/s\u001b[0m eta \u001b[36m0:00:00\u001b[0m\n",
            "\u001b[?25h  Preparing metadata (setup.py) ... \u001b[?25l\u001b[?25hdone\n",
            "Requirement already satisfied: nltk>=3.1 in /usr/local/lib/python3.10/dist-packages (from textblob->nrclex) (3.9.1)\n",
            "Requirement already satisfied: click in /usr/local/lib/python3.10/dist-packages (from nltk>=3.1->textblob->nrclex) (8.1.7)\n",
            "Requirement already satisfied: joblib in /usr/local/lib/python3.10/dist-packages (from nltk>=3.1->textblob->nrclex) (1.4.2)\n",
            "Requirement already satisfied: regex>=2021.8.3 in /usr/local/lib/python3.10/dist-packages (from nltk>=3.1->textblob->nrclex) (2024.9.11)\n",
            "Requirement already satisfied: tqdm in /usr/local/lib/python3.10/dist-packages (from nltk>=3.1->textblob->nrclex) (4.66.6)\n",
            "Building wheels for collected packages: nrclex\n",
            "  Building wheel for nrclex (setup.py) ... \u001b[?25l\u001b[?25hdone\n",
            "  Created wheel for nrclex: filename=NRCLex-3.0.0-py3-none-any.whl size=43308 sha256=b52d7afc631c14a90b170071c52a40fdf2e42a1f47fc782bf638714c9811028a\n",
            "  Stored in directory: /root/.cache/pip/wheels/d2/10/44/6abfb1234298806a145fd6bcaec8cbc712e88dd1cd6cb242fa\n",
            "Successfully built nrclex\n",
            "Installing collected packages: nrclex\n",
            "Successfully installed nrclex-3.0.0\n"
          ]
        }
      ],
      "source": [
        "pip install nrclex\n"
      ]
    },
    {
      "cell_type": "code",
      "execution_count": null,
      "metadata": {
        "id": "3TpTkEfxx9nW"
      },
      "outputs": [],
      "source": [
        "import pandas as pd\n",
        "import numpy as np\n",
        "import matplotlib.pyplot as plt\n",
        "import seaborn as sns\n",
        "import plotly.express as px\n",
        "\n",
        "# Python API libraries\n",
        "import requests\n",
        "# Scrapying Library\n",
        "from bs4 import BeautifulSoup\n",
        "from wordcloud import WordCloud\n",
        "from nltk.corpus import gutenberg\n",
        "# Ensure you have NLTK's Gutenberg corpus\n",
        "import nltk\n",
        "\n",
        "# Topic modeling, Sentiment Analysis, & Emotion Analysis\n",
        "from sklearn.feature_extraction.text import CountVectorizer # Data Cleaning\n",
        "from sklearn.decomposition import LatentDirichletAllocation\n",
        "import re\n",
        "from nrclex import NRCLex # Emotion Analysis\n",
        "from textblob import TextBlob\n"
      ]
    },
    {
      "cell_type": "markdown",
      "metadata": {
        "id": "BH_m93Bo90nE"
      },
      "source": [
        "# Topic Modeling, Sentiment Analysis, & Emotion Analysis\n",
        "\n",
        "\n",
        "*   In this section, we will perform topic modeling on the transcripts of each episode of all 4 existing seasons of Emily in Paris as well as sentiment & emotion analysis to showcase...\n",
        "\n",
        "\n"
      ]
    },
    {
      "cell_type": "markdown",
      "metadata": {
        "id": "rVK1ZhYALmAx"
      },
      "source": [
        "## Season 1 Episode 1: Emily in Paris"
      ]
    },
    {
      "cell_type": "code",
      "execution_count": null,
      "metadata": {
        "colab": {
          "background_save": true,
          "base_uri": "https://localhost:8080/"
        },
        "id": "I4AQAXEHI6ZY",
        "outputId": "6c39c4ce-bfff-4153-9561-d4dd865c3170"
      },
      "outputs": [
        {
          "ename": "FileNotFoundError",
          "evalue": "[Errno 2] No such file or directory: 'S1E1.txt'",
          "output_type": "error",
          "traceback": [
            "\u001b[0;31m---------------------------------------------------------------------------\u001b[0m",
            "\u001b[0;31mFileNotFoundError\u001b[0m                         Traceback (most recent call last)",
            "\u001b[0;32m<ipython-input-1-d6704db9065c>\u001b[0m in \u001b[0;36m<cell line: 4>\u001b[0;34m()\u001b[0m\n\u001b[1;32m      2\u001b[0m \u001b[0;34m\u001b[0m\u001b[0m\n\u001b[1;32m      3\u001b[0m \u001b[0;31m# Load transcript text from file\u001b[0m\u001b[0;34m\u001b[0m\u001b[0;34m\u001b[0m\u001b[0m\n\u001b[0;32m----> 4\u001b[0;31m \u001b[0;32mwith\u001b[0m \u001b[0mopen\u001b[0m\u001b[0;34m(\u001b[0m\u001b[0;34m'S1E1.txt'\u001b[0m\u001b[0;34m,\u001b[0m \u001b[0;34m'r'\u001b[0m\u001b[0;34m,\u001b[0m \u001b[0mencoding\u001b[0m\u001b[0;34m=\u001b[0m\u001b[0;34m'utf-8'\u001b[0m\u001b[0;34m)\u001b[0m \u001b[0;32mas\u001b[0m \u001b[0mfile\u001b[0m\u001b[0;34m:\u001b[0m\u001b[0;34m\u001b[0m\u001b[0;34m\u001b[0m\u001b[0m\n\u001b[0m\u001b[1;32m      5\u001b[0m     \u001b[0mtranscript_text\u001b[0m \u001b[0;34m=\u001b[0m \u001b[0mfile\u001b[0m\u001b[0;34m.\u001b[0m\u001b[0mread\u001b[0m\u001b[0;34m(\u001b[0m\u001b[0;34m)\u001b[0m\u001b[0;34m\u001b[0m\u001b[0;34m\u001b[0m\u001b[0m\n\u001b[1;32m      6\u001b[0m \u001b[0;34m\u001b[0m\u001b[0m\n",
            "\u001b[0;31mFileNotFoundError\u001b[0m: [Errno 2] No such file or directory: 'S1E1.txt'"
          ]
        }
      ],
      "source": [
        "# S1E1\n",
        "\n",
        "# Load transcript text from file\n",
        "with open('S1E1.txt', 'r', encoding='utf-8') as file:\n",
        "    transcript_text = file.read()\n",
        "\n",
        "# Step 1: Data Cleaning\n",
        "# Remove line breaks, punctuation, and convert to lowercase\n",
        "cleaned_text = re.sub(r'\\n+', ' ', transcript_text)  # Remove extra line breaks\n",
        "cleaned_text = re.sub(r'[-]', '', cleaned_text)  # Remove dashes\n",
        "cleaned_text = re.sub(r'[^a-zA-Z\\s]', '', cleaned_text)  # Remove non-alphabetical characters\n",
        "cleaned_text = cleaned_text.lower()  # Convert to lowercase\n",
        "\n",
        "# Define common English stopwords\n",
        "stop_words = {\n",
        "    \"i\", \"me\", \"my\", \"myself\", \"we\", \"our\", \"ours\", \"ourselves\", \"you\", \"your\", \"yours\", \"yourself\", \"yourselves\",\n",
        "    \"he\", \"him\", \"his\", \"himself\", \"she\", \"her\", \"hers\", \"herself\", \"it\", \"its\", \"itself\", \"they\", \"them\", \"their\",\n",
        "    \"theirs\", \"themselves\", \"what\", \"which\", \"who\", \"whom\", \"this\", \"that\", \"these\", \"those\", \"am\", \"is\", \"are\",\n",
        "    \"was\", \"were\", \"be\", \"been\", \"being\", \"have\", \"has\", \"had\", \"having\", \"do\", \"does\", \"did\", \"doing\", \"a\", \"an\",\n",
        "    \"the\", \"and\", \"but\", \"if\", \"or\", \"because\", \"as\", \"until\", \"while\", \"of\", \"at\", \"by\", \"for\", \"with\", \"about\",\n",
        "    \"against\", \"between\", \"into\", \"through\", \"during\", \"before\", \"after\", \"above\", \"below\", \"to\", \"from\", \"up\",\n",
        "    \"down\", \"in\", \"out\", \"on\", \"off\", \"over\", \"under\", \"again\", \"further\", \"then\", \"once\", \"here\", \"there\", \"when\",\n",
        "    \"where\", \"why\", \"how\", \"all\", \"any\", \"both\", \"each\", \"few\", \"more\", \"most\", \"other\", \"some\", \"such\", \"no\", \"nor\",\n",
        "    \"not\", \"only\", \"own\", \"same\", \"so\", \"than\", \"too\", \"very\", \"s\", \"t\", \"can\", \"will\", \"just\", \"don\", \"should\",\n",
        "    \"now\", \"httpstranscriptsforeverdreamingorgviewtopicphpt\", \"httpstranscriptsforeverdreamingorg\"\n",
        "}\n",
        "\n",
        "# Tokenize manually and remove stopwords\n",
        "tokens = cleaned_text.split()\n",
        "tokens = [word for word in tokens if word.isalpha() and word not in stop_words]\n",
        "cleaned_text_processed = ' '.join(tokens)\n",
        "\n",
        "# Step 2: Topic Modeling with LDA\n",
        "# Vectorize the text\n",
        "vectorizer = CountVectorizer(max_df=1.0, min_df=1)\n",
        "doc_term_matrix = vectorizer.fit_transform([cleaned_text_processed])\n",
        "\n",
        "# Apply LDA for topic modeling\n",
        "lda_model = LatentDirichletAllocation(n_components=5, random_state=42)\n",
        "lda_model.fit(doc_term_matrix)\n",
        "\n",
        "# Extract top words for each topic\n",
        "topics = {}\n",
        "for idx, topic in enumerate(lda_model.components_):\n",
        "    topic_words = [vectorizer.get_feature_names_out()[i] for i in topic.argsort()[-10:]]\n",
        "    topics[f'Topic {idx + 1}'] = topic_words\n",
        "\n",
        "# Display topics as DataFrame\n",
        "topics_df = pd.DataFrame(topics)\n",
        "print(topics_df)\n"
      ]
    },
    {
      "cell_type": "markdown",
      "metadata": {
        "id": "MQHOITGfNkzF"
      },
      "source": [
        "Topic 1: Theme: Normandy and Relaxation\n",
        "\n",
        "* Key words: \"normandy,\" \"holiday,\" \"hope,\" \"hot,\" \"hours,\" \"housekeeper\"\n",
        "* Interpretation: This topic could be related to vacationing or relaxation in Normandy. Words like \"holiday,\" \"hours,\" and \"housekeeper\" suggest a setting where people are taking time off, potentially involving travel or accommodations.\n",
        "\n",
        "Topic 2: Theme: Normandy and Interactions\n",
        "* Key words: \"normandy,\" \"holiday,\" \"hope,\" \"hot,\" \"housekeeper,\" \"huh\"\n",
        "* Interpretation: This topic might also focus on Normandy but emphasizes interactions or conversations. Words like \"honestly,\" \"huh,\" and \"hope\" indicate casual dialogues or interpersonal exchanges.\n",
        "\n",
        "Topic 3: Theme: French Culture and Encounters\n",
        "* Key words: \"yes,\" \"like,\" \"ah,\" \"well,\" \"emily,\" \"paris,\" \"french\"\n",
        "* Interpretation: This topic likely centers around cultural experiences or encounters in France. Words like \"paris,\" \"french,\" and \"emily\" suggest that this topic covers Emily's interactions and observations of French culture or lifestyle.\n",
        "\n",
        "Topic 4: Theme: Travel or Vacation in Normandy\n",
        "* Key words: \"normandy,\" \"holiday,\" \"hope,\" \"hot,\" \"housekeeper,\" \"home\"\n",
        "* Interpretation: This topic could again relate to travel or vacation, specifically in Normandy. Words like \"holiday,\" \"hope,\" and \"home\" suggest themes of visiting or spending time in a particular place.\n",
        "\n",
        "Topic 5: Theme: Accommodation and Time Off\n",
        "* Key words: \"normandy,\" \"holiday,\" \"hope,\" \"hot,\" \"housekeeper,\" \"home,\" \"hours\"\n",
        "* Interpretation: This topic likely focuses on accommodation and relaxation, possibly highlighting themes of staying in Normandy, perhaps with mentions of holiday homes or rentals."
      ]
    },
    {
      "cell_type": "code",
      "execution_count": null,
      "metadata": {
        "colab": {
          "base_uri": "https://localhost:8080/"
        },
        "id": "c9BjRZEmJR5_",
        "outputId": "50b5e2b8-3537-41a7-d065-e0cd698640a1"
      },
      "outputs": [
        {
          "name": "stdout",
          "output_type": "stream",
          "text": [
            "\n",
            "Sentiment Analysis Summary:\n",
            "Average Sentiment Score: 0.02\n",
            "Positive Lines: 115\n",
            "Negative Lines: 64\n",
            "Neutral Lines: 913\n"
          ]
        }
      ],
      "source": [
        "# S1 E1\n",
        "\n",
        "# Step 3: Sentiment Analysis\n",
        "# Split the transcript into individual lines for analysis\n",
        "lines = transcript_text.split('\\n')\n",
        "\n",
        "# Analyze sentiment for each line\n",
        "sentiments = []\n",
        "for line in lines:\n",
        "    blob = TextBlob(line)\n",
        "    sentiment_score = blob.sentiment.polarity\n",
        "    sentiments.append(sentiment_score)\n",
        "\n",
        "# Calculate overall sentiment statistics\n",
        "average_sentiment = sum(sentiments) / len(sentiments)\n",
        "positive_lines = sum(1 for score in sentiments if score > 0)\n",
        "negative_lines = sum(1 for score in sentiments if score < 0)\n",
        "neutral_lines = sum(1 for score in sentiments if score == 0)\n",
        "\n",
        "# Display sentiment summary\n",
        "print(\"\\nSentiment Analysis Summary:\")\n",
        "print(f\"Average Sentiment Score: {average_sentiment:.2f}\")\n",
        "print(f\"Positive Lines: {positive_lines}\")\n",
        "print(f\"Negative Lines: {negative_lines}\")\n",
        "print(f\"Neutral Lines: {neutral_lines}\")"
      ]
    },
    {
      "cell_type": "code",
      "execution_count": null,
      "metadata": {
        "colab": {
          "base_uri": "https://localhost:8080/",
          "height": 1000
        },
        "id": "r1UVgi0TMLyL",
        "outputId": "72d96fb2-9ab6-4226-d169-0a42b96de577"
      },
      "outputs": [
        {
          "name": "stdout",
          "output_type": "stream",
          "text": [
            "\n",
            "**********************************************************************\n",
            "  Resource \u001b[93mpunkt_tab\u001b[0m not found.\n",
            "  Please use the NLTK Downloader to obtain the resource:\n",
            "\n",
            "  \u001b[31m>>> import nltk\n",
            "  >>> nltk.download('punkt_tab')\n",
            "  \u001b[0m\n",
            "  For more information see: https://www.nltk.org/data.html\n",
            "\n",
            "  Attempted to load \u001b[93mtokenizers/punkt_tab/english/\u001b[0m\n",
            "\n",
            "  Searched in:\n",
            "    - '/root/nltk_data'\n",
            "    - '/usr/nltk_data'\n",
            "    - '/usr/share/nltk_data'\n",
            "    - '/usr/lib/nltk_data'\n",
            "    - '/usr/share/nltk_data'\n",
            "    - '/usr/local/share/nltk_data'\n",
            "    - '/usr/lib/nltk_data'\n",
            "    - '/usr/local/lib/nltk_data'\n",
            "**********************************************************************\n",
            "\n"
          ]
        },
        {
          "ename": "MissingCorpusError",
          "evalue": "\nLooks like you are missing some required data for this feature.\n\nTo download the necessary data, simply run\n\n    python -m textblob.download_corpora\n\nor use the NLTK downloader to download the missing data: http://nltk.org/data.html\nIf this doesn't fix the problem, file an issue at https://github.com/sloria/TextBlob/issues.\n",
          "output_type": "error",
          "traceback": [
            "\u001b[0;31m---------------------------------------------------------------------------\u001b[0m",
            "\u001b[0;31mLookupError\u001b[0m                               Traceback (most recent call last)",
            "\u001b[0;32m/usr/local/lib/python3.10/dist-packages/textblob/decorators.py\u001b[0m in \u001b[0;36mdecorated\u001b[0;34m(*args, **kwargs)\u001b[0m\n\u001b[1;32m     34\u001b[0m         \u001b[0;32mtry\u001b[0m\u001b[0;34m:\u001b[0m\u001b[0;34m\u001b[0m\u001b[0;34m\u001b[0m\u001b[0m\n\u001b[0;32m---> 35\u001b[0;31m             \u001b[0;32mreturn\u001b[0m \u001b[0mfunc\u001b[0m\u001b[0;34m(\u001b[0m\u001b[0;34m*\u001b[0m\u001b[0margs\u001b[0m\u001b[0;34m,\u001b[0m \u001b[0;34m**\u001b[0m\u001b[0mkwargs\u001b[0m\u001b[0;34m)\u001b[0m\u001b[0;34m\u001b[0m\u001b[0;34m\u001b[0m\u001b[0m\n\u001b[0m\u001b[1;32m     36\u001b[0m         \u001b[0;32mexcept\u001b[0m \u001b[0mLookupError\u001b[0m \u001b[0;32mas\u001b[0m \u001b[0merr\u001b[0m\u001b[0;34m:\u001b[0m\u001b[0;34m\u001b[0m\u001b[0;34m\u001b[0m\u001b[0m\n",
            "\u001b[0;32m/usr/local/lib/python3.10/dist-packages/textblob/tokenizers.py\u001b[0m in \u001b[0;36mtokenize\u001b[0;34m(self, text)\u001b[0m\n\u001b[1;32m     56\u001b[0m         \u001b[0;34m'''Return a list of sentences.'''\u001b[0m\u001b[0;34m\u001b[0m\u001b[0;34m\u001b[0m\u001b[0m\n\u001b[0;32m---> 57\u001b[0;31m         \u001b[0;32mreturn\u001b[0m \u001b[0mnltk\u001b[0m\u001b[0;34m.\u001b[0m\u001b[0mtokenize\u001b[0m\u001b[0;34m.\u001b[0m\u001b[0msent_tokenize\u001b[0m\u001b[0;34m(\u001b[0m\u001b[0mtext\u001b[0m\u001b[0;34m)\u001b[0m\u001b[0;34m\u001b[0m\u001b[0;34m\u001b[0m\u001b[0m\n\u001b[0m\u001b[1;32m     58\u001b[0m \u001b[0;34m\u001b[0m\u001b[0m\n",
            "\u001b[0;32m/usr/local/lib/python3.10/dist-packages/nltk/tokenize/__init__.py\u001b[0m in \u001b[0;36msent_tokenize\u001b[0;34m(text, language)\u001b[0m\n\u001b[1;32m    118\u001b[0m     \"\"\"\n\u001b[0;32m--> 119\u001b[0;31m     \u001b[0mtokenizer\u001b[0m \u001b[0;34m=\u001b[0m \u001b[0m_get_punkt_tokenizer\u001b[0m\u001b[0;34m(\u001b[0m\u001b[0mlanguage\u001b[0m\u001b[0;34m)\u001b[0m\u001b[0;34m\u001b[0m\u001b[0;34m\u001b[0m\u001b[0m\n\u001b[0m\u001b[1;32m    120\u001b[0m     \u001b[0;32mreturn\u001b[0m \u001b[0mtokenizer\u001b[0m\u001b[0;34m.\u001b[0m\u001b[0mtokenize\u001b[0m\u001b[0;34m(\u001b[0m\u001b[0mtext\u001b[0m\u001b[0;34m)\u001b[0m\u001b[0;34m\u001b[0m\u001b[0;34m\u001b[0m\u001b[0m\n",
            "\u001b[0;32m/usr/local/lib/python3.10/dist-packages/nltk/tokenize/__init__.py\u001b[0m in \u001b[0;36m_get_punkt_tokenizer\u001b[0;34m(language)\u001b[0m\n\u001b[1;32m    104\u001b[0m     \"\"\"\n\u001b[0;32m--> 105\u001b[0;31m     \u001b[0;32mreturn\u001b[0m \u001b[0mPunktTokenizer\u001b[0m\u001b[0;34m(\u001b[0m\u001b[0mlanguage\u001b[0m\u001b[0;34m)\u001b[0m\u001b[0;34m\u001b[0m\u001b[0;34m\u001b[0m\u001b[0m\n\u001b[0m\u001b[1;32m    106\u001b[0m \u001b[0;34m\u001b[0m\u001b[0m\n",
            "\u001b[0;32m/usr/local/lib/python3.10/dist-packages/nltk/tokenize/punkt.py\u001b[0m in \u001b[0;36m__init__\u001b[0;34m(self, lang)\u001b[0m\n\u001b[1;32m   1743\u001b[0m         \u001b[0mPunktSentenceTokenizer\u001b[0m\u001b[0;34m.\u001b[0m\u001b[0m__init__\u001b[0m\u001b[0;34m(\u001b[0m\u001b[0mself\u001b[0m\u001b[0;34m)\u001b[0m\u001b[0;34m\u001b[0m\u001b[0;34m\u001b[0m\u001b[0m\n\u001b[0;32m-> 1744\u001b[0;31m         \u001b[0mself\u001b[0m\u001b[0;34m.\u001b[0m\u001b[0mload_lang\u001b[0m\u001b[0;34m(\u001b[0m\u001b[0mlang\u001b[0m\u001b[0;34m)\u001b[0m\u001b[0;34m\u001b[0m\u001b[0;34m\u001b[0m\u001b[0m\n\u001b[0m\u001b[1;32m   1745\u001b[0m \u001b[0;34m\u001b[0m\u001b[0m\n",
            "\u001b[0;32m/usr/local/lib/python3.10/dist-packages/nltk/tokenize/punkt.py\u001b[0m in \u001b[0;36mload_lang\u001b[0;34m(self, lang)\u001b[0m\n\u001b[1;32m   1748\u001b[0m \u001b[0;34m\u001b[0m\u001b[0m\n\u001b[0;32m-> 1749\u001b[0;31m         \u001b[0mlang_dir\u001b[0m \u001b[0;34m=\u001b[0m \u001b[0mfind\u001b[0m\u001b[0;34m(\u001b[0m\u001b[0;34mf\"tokenizers/punkt_tab/{lang}/\"\u001b[0m\u001b[0;34m)\u001b[0m\u001b[0;34m\u001b[0m\u001b[0;34m\u001b[0m\u001b[0m\n\u001b[0m\u001b[1;32m   1750\u001b[0m         \u001b[0mself\u001b[0m\u001b[0;34m.\u001b[0m\u001b[0m_params\u001b[0m \u001b[0;34m=\u001b[0m \u001b[0mload_punkt_params\u001b[0m\u001b[0;34m(\u001b[0m\u001b[0mlang_dir\u001b[0m\u001b[0;34m)\u001b[0m\u001b[0;34m\u001b[0m\u001b[0;34m\u001b[0m\u001b[0m\n",
            "\u001b[0;32m/usr/local/lib/python3.10/dist-packages/nltk/data.py\u001b[0m in \u001b[0;36mfind\u001b[0;34m(resource_name, paths)\u001b[0m\n\u001b[1;32m    578\u001b[0m     \u001b[0mresource_not_found\u001b[0m \u001b[0;34m=\u001b[0m \u001b[0;34mf\"\\n{sep}\\n{msg}\\n{sep}\\n\"\u001b[0m\u001b[0;34m\u001b[0m\u001b[0;34m\u001b[0m\u001b[0m\n\u001b[0;32m--> 579\u001b[0;31m     \u001b[0;32mraise\u001b[0m \u001b[0mLookupError\u001b[0m\u001b[0;34m(\u001b[0m\u001b[0mresource_not_found\u001b[0m\u001b[0;34m)\u001b[0m\u001b[0;34m\u001b[0m\u001b[0;34m\u001b[0m\u001b[0m\n\u001b[0m\u001b[1;32m    580\u001b[0m \u001b[0;34m\u001b[0m\u001b[0m\n",
            "\u001b[0;31mLookupError\u001b[0m: \n**********************************************************************\n  Resource \u001b[93mpunkt_tab\u001b[0m not found.\n  Please use the NLTK Downloader to obtain the resource:\n\n  \u001b[31m>>> import nltk\n  >>> nltk.download('punkt_tab')\n  \u001b[0m\n  For more information see: https://www.nltk.org/data.html\n\n  Attempted to load \u001b[93mtokenizers/punkt_tab/english/\u001b[0m\n\n  Searched in:\n    - '/root/nltk_data'\n    - '/usr/nltk_data'\n    - '/usr/share/nltk_data'\n    - '/usr/lib/nltk_data'\n    - '/usr/share/nltk_data'\n    - '/usr/local/share/nltk_data'\n    - '/usr/lib/nltk_data'\n    - '/usr/local/lib/nltk_data'\n**********************************************************************\n",
            "\nDuring handling of the above exception, another exception occurred:\n",
            "\u001b[0;31mMissingCorpusError\u001b[0m                        Traceback (most recent call last)",
            "\u001b[0;32m<ipython-input-6-0271f823fd5e>\u001b[0m in \u001b[0;36m<cell line: 10>\u001b[0;34m()\u001b[0m\n\u001b[1;32m      8\u001b[0m \u001b[0;31m# Step 2: Perform Emotion Analysis on the entire transcript\u001b[0m\u001b[0;34m\u001b[0m\u001b[0;34m\u001b[0m\u001b[0m\n\u001b[1;32m      9\u001b[0m \u001b[0;31m# Use NRCLex for emotion analysis\u001b[0m\u001b[0;34m\u001b[0m\u001b[0;34m\u001b[0m\u001b[0m\n\u001b[0;32m---> 10\u001b[0;31m \u001b[0memotion\u001b[0m \u001b[0;34m=\u001b[0m \u001b[0mNRCLex\u001b[0m\u001b[0;34m(\u001b[0m\u001b[0mcleaned_text\u001b[0m\u001b[0;34m)\u001b[0m\u001b[0;34m\u001b[0m\u001b[0;34m\u001b[0m\u001b[0m\n\u001b[0m\u001b[1;32m     11\u001b[0m \u001b[0;34m\u001b[0m\u001b[0m\n\u001b[1;32m     12\u001b[0m \u001b[0;31m# Step 3: Aggregate emotion results\u001b[0m\u001b[0;34m\u001b[0m\u001b[0;34m\u001b[0m\u001b[0m\n",
            "\u001b[0;32m/usr/local/lib/python3.10/dist-packages/nrclex.py\u001b[0m in \u001b[0;36m__init__\u001b[0;34m(self, text)\u001b[0m\n\u001b[1;32m   2871\u001b[0m         \u001b[0mself\u001b[0m\u001b[0;34m.\u001b[0m\u001b[0mtext\u001b[0m \u001b[0;34m=\u001b[0m \u001b[0mtext\u001b[0m\u001b[0;34m\u001b[0m\u001b[0;34m\u001b[0m\u001b[0m\n\u001b[1;32m   2872\u001b[0m         \u001b[0mblob\u001b[0m \u001b[0;34m=\u001b[0m \u001b[0mTextBlob\u001b[0m\u001b[0;34m(\u001b[0m\u001b[0mtext\u001b[0m\u001b[0;34m)\u001b[0m\u001b[0;34m\u001b[0m\u001b[0;34m\u001b[0m\u001b[0m\n\u001b[0;32m-> 2873\u001b[0;31m         \u001b[0mself\u001b[0m\u001b[0;34m.\u001b[0m\u001b[0mwords\u001b[0m \u001b[0;34m=\u001b[0m \u001b[0mlist\u001b[0m\u001b[0;34m(\u001b[0m\u001b[0mblob\u001b[0m\u001b[0;34m.\u001b[0m\u001b[0mwords\u001b[0m\u001b[0;34m)\u001b[0m\u001b[0;34m\u001b[0m\u001b[0;34m\u001b[0m\u001b[0m\n\u001b[0m\u001b[1;32m   2874\u001b[0m         \u001b[0mself\u001b[0m\u001b[0;34m.\u001b[0m\u001b[0msentences\u001b[0m \u001b[0;34m=\u001b[0m \u001b[0mlist\u001b[0m\u001b[0;34m(\u001b[0m\u001b[0mblob\u001b[0m\u001b[0;34m.\u001b[0m\u001b[0msentences\u001b[0m\u001b[0;34m)\u001b[0m\u001b[0;34m\u001b[0m\u001b[0;34m\u001b[0m\u001b[0m\n\u001b[1;32m   2875\u001b[0m         \u001b[0mbuild_word_affect\u001b[0m\u001b[0;34m(\u001b[0m\u001b[0mself\u001b[0m\u001b[0;34m)\u001b[0m\u001b[0;34m\u001b[0m\u001b[0;34m\u001b[0m\u001b[0m\n",
            "\u001b[0;32m/usr/local/lib/python3.10/dist-packages/textblob/decorators.py\u001b[0m in \u001b[0;36m__get__\u001b[0;34m(self, obj, cls)\u001b[0m\n\u001b[1;32m     22\u001b[0m         \u001b[0;32mif\u001b[0m \u001b[0mobj\u001b[0m \u001b[0;32mis\u001b[0m \u001b[0;32mNone\u001b[0m\u001b[0;34m:\u001b[0m\u001b[0;34m\u001b[0m\u001b[0;34m\u001b[0m\u001b[0m\n\u001b[1;32m     23\u001b[0m             \u001b[0;32mreturn\u001b[0m \u001b[0mself\u001b[0m\u001b[0;34m\u001b[0m\u001b[0;34m\u001b[0m\u001b[0m\n\u001b[0;32m---> 24\u001b[0;31m         \u001b[0mvalue\u001b[0m \u001b[0;34m=\u001b[0m \u001b[0mobj\u001b[0m\u001b[0;34m.\u001b[0m\u001b[0m__dict__\u001b[0m\u001b[0;34m[\u001b[0m\u001b[0mself\u001b[0m\u001b[0;34m.\u001b[0m\u001b[0mfunc\u001b[0m\u001b[0;34m.\u001b[0m\u001b[0m__name__\u001b[0m\u001b[0;34m]\u001b[0m \u001b[0;34m=\u001b[0m \u001b[0mself\u001b[0m\u001b[0;34m.\u001b[0m\u001b[0mfunc\u001b[0m\u001b[0;34m(\u001b[0m\u001b[0mobj\u001b[0m\u001b[0;34m)\u001b[0m\u001b[0;34m\u001b[0m\u001b[0;34m\u001b[0m\u001b[0m\n\u001b[0m\u001b[1;32m     25\u001b[0m         \u001b[0;32mreturn\u001b[0m \u001b[0mvalue\u001b[0m\u001b[0;34m\u001b[0m\u001b[0;34m\u001b[0m\u001b[0m\n\u001b[1;32m     26\u001b[0m \u001b[0;34m\u001b[0m\u001b[0m\n",
            "\u001b[0;32m/usr/local/lib/python3.10/dist-packages/textblob/blob.py\u001b[0m in \u001b[0;36mwords\u001b[0;34m(self)\u001b[0m\n\u001b[1;32m    676\u001b[0m         \u001b[0;34m:\u001b[0m\u001b[0mreturns\u001b[0m\u001b[0;34m:\u001b[0m \u001b[0mA\u001b[0m \u001b[0;34m:\u001b[0m\u001b[0;32mclass\u001b[0m\u001b[0;34m:\u001b[0m\u001b[0;31m`\u001b[0m\u001b[0mWordList\u001b[0m \u001b[0;34m<\u001b[0m\u001b[0mWordList\u001b[0m\u001b[0;34m>\u001b[0m\u001b[0;31m`\u001b[0m \u001b[0mof\u001b[0m \u001b[0mword\u001b[0m \u001b[0mtokens\u001b[0m\u001b[0;34m.\u001b[0m\u001b[0;34m\u001b[0m\u001b[0;34m\u001b[0m\u001b[0m\n\u001b[1;32m    677\u001b[0m         \"\"\"\n\u001b[0;32m--> 678\u001b[0;31m         \u001b[0;32mreturn\u001b[0m \u001b[0mWordList\u001b[0m\u001b[0;34m(\u001b[0m\u001b[0mword_tokenize\u001b[0m\u001b[0;34m(\u001b[0m\u001b[0mself\u001b[0m\u001b[0;34m.\u001b[0m\u001b[0mraw\u001b[0m\u001b[0;34m,\u001b[0m \u001b[0minclude_punc\u001b[0m\u001b[0;34m=\u001b[0m\u001b[0;32mFalse\u001b[0m\u001b[0;34m)\u001b[0m\u001b[0;34m)\u001b[0m\u001b[0;34m\u001b[0m\u001b[0;34m\u001b[0m\u001b[0m\n\u001b[0m\u001b[1;32m    679\u001b[0m \u001b[0;34m\u001b[0m\u001b[0m\n\u001b[1;32m    680\u001b[0m     \u001b[0;34m@\u001b[0m\u001b[0mproperty\u001b[0m\u001b[0;34m\u001b[0m\u001b[0;34m\u001b[0m\u001b[0m\n",
            "\u001b[0;32m/usr/local/lib/python3.10/dist-packages/textblob/tokenizers.py\u001b[0m in \u001b[0;36mword_tokenize\u001b[0;34m(text, include_punc, *args, **kwargs)\u001b[0m\n\u001b[1;32m     71\u001b[0m         _word_tokenizer.itokenize(sentence, include_punc=include_punc,\n\u001b[1;32m     72\u001b[0m                                 *args, **kwargs)\n\u001b[0;32m---> 73\u001b[0;31m         for sentence in sent_tokenize(text))\n\u001b[0m\u001b[1;32m     74\u001b[0m     \u001b[0;32mreturn\u001b[0m \u001b[0mwords\u001b[0m\u001b[0;34m\u001b[0m\u001b[0;34m\u001b[0m\u001b[0m\n",
            "\u001b[0;32m/usr/local/lib/python3.10/dist-packages/textblob/base.py\u001b[0m in \u001b[0;36mitokenize\u001b[0;34m(self, text, *args, **kwargs)\u001b[0m\n\u001b[1;32m     62\u001b[0m         \u001b[0;34m:\u001b[0m\u001b[0mrtype\u001b[0m\u001b[0;34m:\u001b[0m \u001b[0mgenerator\u001b[0m\u001b[0;34m\u001b[0m\u001b[0;34m\u001b[0m\u001b[0m\n\u001b[1;32m     63\u001b[0m         \"\"\"\n\u001b[0;32m---> 64\u001b[0;31m         \u001b[0;32mreturn\u001b[0m \u001b[0;34m(\u001b[0m\u001b[0mt\u001b[0m \u001b[0;32mfor\u001b[0m \u001b[0mt\u001b[0m \u001b[0;32min\u001b[0m \u001b[0mself\u001b[0m\u001b[0;34m.\u001b[0m\u001b[0mtokenize\u001b[0m\u001b[0;34m(\u001b[0m\u001b[0mtext\u001b[0m\u001b[0;34m,\u001b[0m \u001b[0;34m*\u001b[0m\u001b[0margs\u001b[0m\u001b[0;34m,\u001b[0m \u001b[0;34m**\u001b[0m\u001b[0mkwargs\u001b[0m\u001b[0;34m)\u001b[0m\u001b[0;34m)\u001b[0m\u001b[0;34m\u001b[0m\u001b[0;34m\u001b[0m\u001b[0m\n\u001b[0m\u001b[1;32m     65\u001b[0m \u001b[0;34m\u001b[0m\u001b[0m\n\u001b[1;32m     66\u001b[0m \u001b[0;31m##### SENTIMENT ANALYZERS ####\u001b[0m\u001b[0;34m\u001b[0m\u001b[0;34m\u001b[0m\u001b[0m\n",
            "\u001b[0;32m/usr/local/lib/python3.10/dist-packages/textblob/decorators.py\u001b[0m in \u001b[0;36mdecorated\u001b[0;34m(*args, **kwargs)\u001b[0m\n\u001b[1;32m     36\u001b[0m         \u001b[0;32mexcept\u001b[0m \u001b[0mLookupError\u001b[0m \u001b[0;32mas\u001b[0m \u001b[0merr\u001b[0m\u001b[0;34m:\u001b[0m\u001b[0;34m\u001b[0m\u001b[0;34m\u001b[0m\u001b[0m\n\u001b[1;32m     37\u001b[0m             \u001b[0mprint\u001b[0m\u001b[0;34m(\u001b[0m\u001b[0merr\u001b[0m\u001b[0;34m)\u001b[0m\u001b[0;34m\u001b[0m\u001b[0;34m\u001b[0m\u001b[0m\n\u001b[0;32m---> 38\u001b[0;31m             \u001b[0;32mraise\u001b[0m \u001b[0mMissingCorpusError\u001b[0m\u001b[0;34m(\u001b[0m\u001b[0;34m)\u001b[0m\u001b[0;34m\u001b[0m\u001b[0;34m\u001b[0m\u001b[0m\n\u001b[0m\u001b[1;32m     39\u001b[0m     \u001b[0;32mreturn\u001b[0m \u001b[0mdecorated\u001b[0m\u001b[0;34m\u001b[0m\u001b[0;34m\u001b[0m\u001b[0m\n",
            "\u001b[0;31mMissingCorpusError\u001b[0m: \nLooks like you are missing some required data for this feature.\n\nTo download the necessary data, simply run\n\n    python -m textblob.download_corpora\n\nor use the NLTK downloader to download the missing data: http://nltk.org/data.html\nIf this doesn't fix the problem, file an issue at https://github.com/sloria/TextBlob/issues.\n"
          ]
        }
      ],
      "source": [
        "# Load transcript text from file\n",
        "with open('S1E1.txt', 'r', encoding='utf-8') as file:\n",
        "    transcript_text = file.read()\n",
        "# Step 1: Clean and prepare text\n",
        "# Remove character names and extra information, keeping only dialogue\n",
        "cleaned_text = re.sub(r'^\\s*([A-Za-z]+):\\s*', '', transcript_text, flags=re.MULTILINE)\n",
        "\n",
        "# Step 2: Perform Emotion Analysis on the entire transcript\n",
        "# Use NRCLex for emotion analysis\n",
        "emotion = NRCLex(cleaned_text)\n",
        "\n",
        "# Step 3: Aggregate emotion results\n",
        "emotion_counts = emotion.raw_emotion_scores\n",
        "\n",
        "# Convert results to DataFrame for easy viewing\n",
        "emotion_df = pd.DataFrame(list(emotion_counts.items()), columns=['Emotion', 'Count'])\n",
        "emotion_df = emotion_df.sort_values(by='Count', ascending=False)\n",
        "\n",
        "# Display the emotion analysis result\n",
        "print(\"Emotion Analysis of S1E1 Transcript:\")\n",
        "print(emotion_df)\n"
      ]
    },
    {
      "cell_type": "markdown",
      "metadata": {
        "id": "4K2vU5IwOiQn"
      },
      "source": [
        "**Summary of S1E1**:\n",
        "\n",
        "* Sentiment:\n",
        "* Emotion:\n",
        "* Maybe add visualization as well"
      ]
    },
    {
      "cell_type": "code",
      "execution_count": null,
      "metadata": {
        "id": "m5-WlxaFLuzd"
      },
      "outputs": [],
      "source": []
    },
    {
      "cell_type": "markdown",
      "metadata": {
        "id": "9pPPhlVHOB6p"
      },
      "source": [
        "## Season 1 Episode 2: Male Female"
      ]
    },
    {
      "cell_type": "code",
      "execution_count": null,
      "metadata": {
        "id": "_h-HAyeGONQl"
      },
      "outputs": [],
      "source": []
    },
    {
      "cell_type": "markdown",
      "metadata": {
        "id": "hojxDNq2-Zhm"
      },
      "source": [
        "# Time Series Regression\n",
        "\n",
        "*   In this section, we will train a decision tree regression model (bagging/random forest if needed) for predicting the rating of the episodes.\n",
        "*   We will use ChatGPT to create a few fictitious episodes of season 5 and use those to showcase how different topics discussed in each episodes are associated with ratings.\n",
        "\n"
      ]
    },
    {
      "cell_type": "markdown",
      "metadata": {
        "id": "MQINE8-WVZil"
      },
      "source": [
        "### **Below are example code for time series predictive modeling**"
      ]
    },
    {
      "cell_type": "code",
      "execution_count": null,
      "metadata": {
        "id": "gWEDhLOSVZTb",
        "colab": {
          "base_uri": "https://localhost:8080/",
          "height": 367
        },
        "outputId": "8a6dcb17-fea8-4f3b-eeda-65c979cee4fd"
      },
      "outputs": [
        {
          "output_type": "error",
          "ename": "FileNotFoundError",
          "evalue": "[Errno 2] No such file or directory: 'emily_in_paris_features.csv'",
          "traceback": [
            "\u001b[0;31m---------------------------------------------------------------------------\u001b[0m",
            "\u001b[0;31mFileNotFoundError\u001b[0m                         Traceback (most recent call last)",
            "\u001b[0;32m<ipython-input-3-40f281ac9f22>\u001b[0m in \u001b[0;36m<cell line: 7>\u001b[0;34m()\u001b[0m\n\u001b[1;32m      5\u001b[0m \u001b[0;34m\u001b[0m\u001b[0m\n\u001b[1;32m      6\u001b[0m \u001b[0;31m# Load dataset\u001b[0m\u001b[0;34m\u001b[0m\u001b[0;34m\u001b[0m\u001b[0m\n\u001b[0;32m----> 7\u001b[0;31m \u001b[0mdata\u001b[0m \u001b[0;34m=\u001b[0m \u001b[0mpd\u001b[0m\u001b[0;34m.\u001b[0m\u001b[0mread_csv\u001b[0m\u001b[0;34m(\u001b[0m\u001b[0;34m\"emily_in_paris_features.csv\"\u001b[0m\u001b[0;34m)\u001b[0m\u001b[0;34m\u001b[0m\u001b[0;34m\u001b[0m\u001b[0m\n\u001b[0m\u001b[1;32m      8\u001b[0m \u001b[0;34m\u001b[0m\u001b[0m\n\u001b[1;32m      9\u001b[0m \u001b[0;31m# Features and target\u001b[0m\u001b[0;34m\u001b[0m\u001b[0;34m\u001b[0m\u001b[0m\n",
            "\u001b[0;32m/usr/local/lib/python3.10/dist-packages/pandas/io/parsers/readers.py\u001b[0m in \u001b[0;36mread_csv\u001b[0;34m(filepath_or_buffer, sep, delimiter, header, names, index_col, usecols, dtype, engine, converters, true_values, false_values, skipinitialspace, skiprows, skipfooter, nrows, na_values, keep_default_na, na_filter, verbose, skip_blank_lines, parse_dates, infer_datetime_format, keep_date_col, date_parser, date_format, dayfirst, cache_dates, iterator, chunksize, compression, thousands, decimal, lineterminator, quotechar, quoting, doublequote, escapechar, comment, encoding, encoding_errors, dialect, on_bad_lines, delim_whitespace, low_memory, memory_map, float_precision, storage_options, dtype_backend)\u001b[0m\n\u001b[1;32m   1024\u001b[0m     \u001b[0mkwds\u001b[0m\u001b[0;34m.\u001b[0m\u001b[0mupdate\u001b[0m\u001b[0;34m(\u001b[0m\u001b[0mkwds_defaults\u001b[0m\u001b[0;34m)\u001b[0m\u001b[0;34m\u001b[0m\u001b[0;34m\u001b[0m\u001b[0m\n\u001b[1;32m   1025\u001b[0m \u001b[0;34m\u001b[0m\u001b[0m\n\u001b[0;32m-> 1026\u001b[0;31m     \u001b[0;32mreturn\u001b[0m \u001b[0m_read\u001b[0m\u001b[0;34m(\u001b[0m\u001b[0mfilepath_or_buffer\u001b[0m\u001b[0;34m,\u001b[0m \u001b[0mkwds\u001b[0m\u001b[0;34m)\u001b[0m\u001b[0;34m\u001b[0m\u001b[0;34m\u001b[0m\u001b[0m\n\u001b[0m\u001b[1;32m   1027\u001b[0m \u001b[0;34m\u001b[0m\u001b[0m\n\u001b[1;32m   1028\u001b[0m \u001b[0;34m\u001b[0m\u001b[0m\n",
            "\u001b[0;32m/usr/local/lib/python3.10/dist-packages/pandas/io/parsers/readers.py\u001b[0m in \u001b[0;36m_read\u001b[0;34m(filepath_or_buffer, kwds)\u001b[0m\n\u001b[1;32m    618\u001b[0m \u001b[0;34m\u001b[0m\u001b[0m\n\u001b[1;32m    619\u001b[0m     \u001b[0;31m# Create the parser.\u001b[0m\u001b[0;34m\u001b[0m\u001b[0;34m\u001b[0m\u001b[0m\n\u001b[0;32m--> 620\u001b[0;31m     \u001b[0mparser\u001b[0m \u001b[0;34m=\u001b[0m \u001b[0mTextFileReader\u001b[0m\u001b[0;34m(\u001b[0m\u001b[0mfilepath_or_buffer\u001b[0m\u001b[0;34m,\u001b[0m \u001b[0;34m**\u001b[0m\u001b[0mkwds\u001b[0m\u001b[0;34m)\u001b[0m\u001b[0;34m\u001b[0m\u001b[0;34m\u001b[0m\u001b[0m\n\u001b[0m\u001b[1;32m    621\u001b[0m \u001b[0;34m\u001b[0m\u001b[0m\n\u001b[1;32m    622\u001b[0m     \u001b[0;32mif\u001b[0m \u001b[0mchunksize\u001b[0m \u001b[0;32mor\u001b[0m \u001b[0miterator\u001b[0m\u001b[0;34m:\u001b[0m\u001b[0;34m\u001b[0m\u001b[0;34m\u001b[0m\u001b[0m\n",
            "\u001b[0;32m/usr/local/lib/python3.10/dist-packages/pandas/io/parsers/readers.py\u001b[0m in \u001b[0;36m__init__\u001b[0;34m(self, f, engine, **kwds)\u001b[0m\n\u001b[1;32m   1618\u001b[0m \u001b[0;34m\u001b[0m\u001b[0m\n\u001b[1;32m   1619\u001b[0m         \u001b[0mself\u001b[0m\u001b[0;34m.\u001b[0m\u001b[0mhandles\u001b[0m\u001b[0;34m:\u001b[0m \u001b[0mIOHandles\u001b[0m \u001b[0;34m|\u001b[0m \u001b[0;32mNone\u001b[0m \u001b[0;34m=\u001b[0m \u001b[0;32mNone\u001b[0m\u001b[0;34m\u001b[0m\u001b[0;34m\u001b[0m\u001b[0m\n\u001b[0;32m-> 1620\u001b[0;31m         \u001b[0mself\u001b[0m\u001b[0;34m.\u001b[0m\u001b[0m_engine\u001b[0m \u001b[0;34m=\u001b[0m \u001b[0mself\u001b[0m\u001b[0;34m.\u001b[0m\u001b[0m_make_engine\u001b[0m\u001b[0;34m(\u001b[0m\u001b[0mf\u001b[0m\u001b[0;34m,\u001b[0m \u001b[0mself\u001b[0m\u001b[0;34m.\u001b[0m\u001b[0mengine\u001b[0m\u001b[0;34m)\u001b[0m\u001b[0;34m\u001b[0m\u001b[0;34m\u001b[0m\u001b[0m\n\u001b[0m\u001b[1;32m   1621\u001b[0m \u001b[0;34m\u001b[0m\u001b[0m\n\u001b[1;32m   1622\u001b[0m     \u001b[0;32mdef\u001b[0m \u001b[0mclose\u001b[0m\u001b[0;34m(\u001b[0m\u001b[0mself\u001b[0m\u001b[0;34m)\u001b[0m \u001b[0;34m->\u001b[0m \u001b[0;32mNone\u001b[0m\u001b[0;34m:\u001b[0m\u001b[0;34m\u001b[0m\u001b[0;34m\u001b[0m\u001b[0m\n",
            "\u001b[0;32m/usr/local/lib/python3.10/dist-packages/pandas/io/parsers/readers.py\u001b[0m in \u001b[0;36m_make_engine\u001b[0;34m(self, f, engine)\u001b[0m\n\u001b[1;32m   1878\u001b[0m                 \u001b[0;32mif\u001b[0m \u001b[0;34m\"b\"\u001b[0m \u001b[0;32mnot\u001b[0m \u001b[0;32min\u001b[0m \u001b[0mmode\u001b[0m\u001b[0;34m:\u001b[0m\u001b[0;34m\u001b[0m\u001b[0;34m\u001b[0m\u001b[0m\n\u001b[1;32m   1879\u001b[0m                     \u001b[0mmode\u001b[0m \u001b[0;34m+=\u001b[0m \u001b[0;34m\"b\"\u001b[0m\u001b[0;34m\u001b[0m\u001b[0;34m\u001b[0m\u001b[0m\n\u001b[0;32m-> 1880\u001b[0;31m             self.handles = get_handle(\n\u001b[0m\u001b[1;32m   1881\u001b[0m                 \u001b[0mf\u001b[0m\u001b[0;34m,\u001b[0m\u001b[0;34m\u001b[0m\u001b[0;34m\u001b[0m\u001b[0m\n\u001b[1;32m   1882\u001b[0m                 \u001b[0mmode\u001b[0m\u001b[0;34m,\u001b[0m\u001b[0;34m\u001b[0m\u001b[0;34m\u001b[0m\u001b[0m\n",
            "\u001b[0;32m/usr/local/lib/python3.10/dist-packages/pandas/io/common.py\u001b[0m in \u001b[0;36mget_handle\u001b[0;34m(path_or_buf, mode, encoding, compression, memory_map, is_text, errors, storage_options)\u001b[0m\n\u001b[1;32m    871\u001b[0m         \u001b[0;32mif\u001b[0m \u001b[0mioargs\u001b[0m\u001b[0;34m.\u001b[0m\u001b[0mencoding\u001b[0m \u001b[0;32mand\u001b[0m \u001b[0;34m\"b\"\u001b[0m \u001b[0;32mnot\u001b[0m \u001b[0;32min\u001b[0m \u001b[0mioargs\u001b[0m\u001b[0;34m.\u001b[0m\u001b[0mmode\u001b[0m\u001b[0;34m:\u001b[0m\u001b[0;34m\u001b[0m\u001b[0;34m\u001b[0m\u001b[0m\n\u001b[1;32m    872\u001b[0m             \u001b[0;31m# Encoding\u001b[0m\u001b[0;34m\u001b[0m\u001b[0;34m\u001b[0m\u001b[0m\n\u001b[0;32m--> 873\u001b[0;31m             handle = open(\n\u001b[0m\u001b[1;32m    874\u001b[0m                 \u001b[0mhandle\u001b[0m\u001b[0;34m,\u001b[0m\u001b[0;34m\u001b[0m\u001b[0;34m\u001b[0m\u001b[0m\n\u001b[1;32m    875\u001b[0m                 \u001b[0mioargs\u001b[0m\u001b[0;34m.\u001b[0m\u001b[0mmode\u001b[0m\u001b[0;34m,\u001b[0m\u001b[0;34m\u001b[0m\u001b[0;34m\u001b[0m\u001b[0m\n",
            "\u001b[0;31mFileNotFoundError\u001b[0m: [Errno 2] No such file or directory: 'emily_in_paris_features.csv'"
          ]
        }
      ],
      "source": [
        "import pandas as pd\n",
        "from sklearn.ensemble import RandomForestRegressor\n",
        "from sklearn.model_selection import train_test_split\n",
        "from sklearn.metrics import mean_squared_error\n",
        "\n",
        "# Load dataset\n",
        "data = pd.read_csv(\"emily_in_paris_features.csv\")\n",
        "\n",
        "# Features and target\n",
        "X = data[['Sentiment_Polarity', 'Sentiment_Subjectivity', 'Joy', 'Anger', 'Sadness', 'Episode_Number', 'Season']]\n",
        "y = data['Rating']\n",
        "\n",
        "# Train-test split\n",
        "X_train, X_test, y_train, y_test = train_test_split(X, y, test_size=0.2, shuffle=False)  # Maintain temporal order\n",
        "\n",
        "# Train a regression model\n",
        "model = RandomForestRegressor(random_state=42)\n",
        "model.fit(X_train, y_train)\n",
        "\n",
        "# Evaluate\n",
        "y_pred = model.predict(X_test)\n",
        "print(\"RMSE:\", mean_squared_error(y_test, y_pred, squared=False))\n",
        "\n",
        "# Predict season 5 ratings\n",
        "season_5_features = pd.DataFrame({\n",
        "    # Use sentiment and emotion averages from previous seasons or simulated values\n",
        "    'Sentiment_Polarity': [0.3] * 10,\n",
        "    'Sentiment_Subjectivity': [0.6] * 10,\n",
        "    'Joy': [0.7] * 10,\n",
        "    'Anger': [0.2] * 10,\n",
        "    'Sadness': [0.1] * 10,\n",
        "    'Episode_Number': list(range(1, 11)),\n",
        "    'Season': [5] * 10\n",
        "})\n",
        "season_5_ratings = model.predict(season_5_features)\n",
        "print(\"Predicted Ratings for Season 5:\", season_5_ratings)\n"
      ]
    },
    {
      "cell_type": "code",
      "execution_count": null,
      "metadata": {
        "id": "Ld3YtKYX-ZPw"
      },
      "outputs": [],
      "source": []
    },
    {
      "cell_type": "markdown",
      "metadata": {
        "id": "4ebi_B7Umalw"
      },
      "source": [
        "# Visualization   \n",
        "\n",
        "\n",
        "\n"
      ]
    },
    {
      "cell_type": "code",
      "execution_count": null,
      "metadata": {
        "id": "67ZKBHBsmhML"
      },
      "outputs": [],
      "source": []
    },
    {
      "cell_type": "markdown",
      "source": [
        "# Model 1: Time Series"
      ],
      "metadata": {
        "id": "wagBIlLd06tB"
      }
    },
    {
      "source": [
        "from sklearn.linear_model import LinearRegression\n",
        "from sklearn.model_selection import train_test_split\n",
        "from sklearn.metrics import mean_squared_error, r2_score\n",
        "import pandas as pd\n",
        "import numpy as np\n",
        "from sklearn.impute import SimpleImputer  # Import SimpleImputer\n",
        "\n",
        "# Load the dataset\n",
        "file_path = 'EIPData.csv'  # Replace with your file path\n",
        "data = pd.read_csv(file_path)\n",
        "\n",
        "# Select features and target\n",
        "emotion_features = [\"Positive\", \"Trust\", \"Joy\", \"Anticipation\", \"Negative\",\n",
        "                    \"Surprise\", \"Sadness\", \"Fear\", \"Anger\", \"Disgust\"]\n",
        "X = data[emotion_features] # Keep X as a DataFrame\n",
        "y = data['IMDB ratings (out of 10)']  # Target variable as Series\n",
        "\n",
        "\n",
        "# Add lagged features (time series component)\n",
        "for lag in range(1, 5):  # Lag of 1 to 3 episodes\n",
        "    lagged_features = X.shift(lag)  # Shift features by 'lag' steps\n",
        "    lagged_features.columns = [f\"{col}_lag{lag}\" for col in lagged_features.columns]\n",
        "    X = pd.concat([X, lagged_features], axis=1)\n",
        "\n",
        "# Drop rows with NaN values caused by lagging\n",
        "X = X.iloc[3:]\n",
        "y = y.iloc[3:]\n",
        "\n",
        "# Impute missing values using SimpleImputer\n",
        "# Strategy can be 'mean', 'median', 'most_frequent', or 'constant'\n",
        "imputer = SimpleImputer(strategy='mean')  # Create an imputer instance\n",
        "X = pd.DataFrame(imputer.fit_transform(X), columns=X.columns) # Convert imputed data back to DataFrame\n",
        "\n",
        "# Split the data into training and testing sets\n",
        "X_train, X_test, y_train, y_test = train_test_split(X, y, test_size=0.25, random_state=42, shuffle=False)\n",
        "\n",
        "# Train a Linear Regression model\n",
        "model = LinearRegression()\n",
        "model.fit(X_train, y_train)\n",
        "\n",
        "# Make predictions\n",
        "y_pred = model.predict(X_test)\n",
        "\n",
        "# Evaluate the model\n",
        "rmse = np.sqrt(mean_squared_error(y_test, y_pred))\n",
        "r2 = r2_score(y_test, y_pred)\n",
        "\n",
        "# Display results\n",
        "print(f\"RMSE: {rmse:.2f}\")\n",
        "print(f\"R^2 Score: {r2:.2f}\")\n",
        "\n",
        "# Feature Importance (coefficients)\n",
        "feature_importance = pd.Series(model.coef_, index=X_train.columns).sort_values(ascending=False) # Now X_train has columns\n",
        "print(\"\\nFeature Importance:\")\n",
        "print(feature_importance)"
      ],
      "cell_type": "code",
      "metadata": {
        "colab": {
          "base_uri": "https://localhost:8080/"
        },
        "id": "2NEqTmkVhU1C",
        "outputId": "02c26cfb-a1f9-42cb-9b95-962e302f756b"
      },
      "execution_count": null,
      "outputs": [
        {
          "output_type": "stream",
          "name": "stdout",
          "text": [
            "RMSE: 0.43\n",
            "R^2 Score: -0.64\n",
            "\n",
            "Feature Importance:\n",
            "Joy                                 0.002951\n",
            "Fear_lag2                           0.002539\n",
            "Surprise                            0.002434\n",
            "Anger_lag2_lag3_lag4                0.002418\n",
            "Positive_lag1_lag2_lag3_lag4        0.002118\n",
            "Negative_lag1_lag2_lag3_lag4        0.002047\n",
            "Sadness_lag2_lag3_lag4              0.001777\n",
            "Disgust_lag1_lag3                   0.001718\n",
            "Disgust_lag4                        0.001718\n",
            "Fear_lag1_lag3_lag4                 0.001692\n",
            "Anger_lag1_lag3                     0.001648\n",
            "Anger_lag4                          0.001648\n",
            "Disgust_lag1_lag2_lag3              0.001586\n",
            "Disgust_lag2_lag4                   0.001586\n",
            "Anger_lag2                          0.001531\n",
            "Disgust_lag2_lag3_lag4              0.001428\n",
            "Trust                               0.001415\n",
            "Sadness_lag2                        0.001358\n",
            "Disgust_lag3_lag4                   0.001313\n",
            "Disgust_lag1_lag2_lag4              0.001313\n",
            "Negative_lag1_lag3                  0.001271\n",
            "Negative_lag4                       0.001271\n",
            "Trust_lag2_lag3                     0.001262\n",
            "Trust_lag1_lag4                     0.001262\n",
            "Sadness_lag4                        0.001218\n",
            "Sadness_lag1_lag3                   0.001218\n",
            "Disgust_lag3                        0.001042\n",
            "Disgust_lag1_lag2                   0.001042\n",
            "Negative_lag1_lag2_lag3             0.001031\n",
            "Negative_lag2_lag4                  0.001031\n",
            "Trust_lag1_lag3_lag4                0.001022\n",
            "Fear_lag2_lag3_lag4                 0.000990\n",
            "Disgust                             0.000979\n",
            "Anticipation_lag1_lag3              0.000950\n",
            "Anticipation_lag4                   0.000950\n",
            "Sadness_lag2_lag4                   0.000788\n",
            "Sadness_lag1_lag2_lag3              0.000788\n",
            "Anticipation_lag1_lag2_lag3_lag4    0.000779\n",
            "Positive_lag2_lag4                  0.000721\n",
            "Positive_lag1_lag2_lag3             0.000721\n",
            "Positive                            0.000701\n",
            "Sadness_lag1_lag2_lag3_lag4         0.000698\n",
            "Positive_lag1_lag3_lag4             0.000608\n",
            "Anger_lag1_lag2_lag3                0.000557\n",
            "Anger_lag2_lag4                     0.000557\n",
            "Surprise_lag1_lag2                  0.000456\n",
            "Surprise_lag3                       0.000456\n",
            "Trust_lag1_lag2_lag3_lag4           0.000420\n",
            "Sadness_lag1_lag2_lag4              0.000413\n",
            "Sadness_lag3_lag4                   0.000413\n",
            "Negative_lag1                       0.000384\n",
            "Trust_lag1                          0.000359\n",
            "Joy_lag4                            0.000350\n",
            "Joy_lag1_lag3                       0.000350\n",
            "Positive_lag2                       0.000348\n",
            "Surprise_lag1                       0.000307\n",
            "Anger                               0.000269\n",
            "Negative_lag3_lag4                  0.000268\n",
            "Negative_lag1_lag2_lag4             0.000268\n",
            "Fear_lag1_lag2_lag3_lag4            0.000262\n",
            "Anticipation                        0.000239\n",
            "Positive_lag3_lag4                  0.000210\n",
            "Positive_lag1_lag2_lag4             0.000210\n",
            "Surprise_lag1_lag3_lag4             0.000202\n",
            "Negative_lag1_lag3_lag4             0.000188\n",
            "Anticipation_lag1_lag2              0.000105\n",
            "Anticipation_lag3                   0.000105\n",
            "Positive_lag2_lag3                  0.000067\n",
            "Positive_lag1_lag4                  0.000067\n",
            "Negative_lag2                       0.000047\n",
            "Joy_lag3_lag4                       0.000025\n",
            "Joy_lag1_lag2_lag4                  0.000025\n",
            "Joy_lag2_lag3                      -0.000024\n",
            "Joy_lag1_lag4                      -0.000024\n",
            "Positive_lag4                      -0.000025\n",
            "Positive_lag1_lag3                 -0.000025\n",
            "Surprise_lag1_lag2_lag3_lag4       -0.000029\n",
            "Anger_lag3_lag4                    -0.000042\n",
            "Anger_lag1_lag2_lag4               -0.000042\n",
            "Fear_lag2_lag4                     -0.000069\n",
            "Fear_lag1_lag2_lag3                -0.000069\n",
            "Sadness_lag1_lag2                  -0.000142\n",
            "Sadness_lag3                       -0.000142\n",
            "Joy_lag2_lag4                      -0.000164\n",
            "Joy_lag1_lag2_lag3                 -0.000164\n",
            "Trust_lag2                         -0.000229\n",
            "Fear_lag1                          -0.000230\n",
            "Sadness_lag2_lag3                  -0.000238\n",
            "Sadness_lag1_lag4                  -0.000238\n",
            "Anticipation_lag1_lag3_lag4        -0.000254\n",
            "Disgust_lag2                       -0.000295\n",
            "Joy_lag2_lag3_lag4                 -0.000313\n",
            "Fear_lag1_lag2_lag4                -0.000318\n",
            "Fear_lag3_lag4                     -0.000318\n",
            "Anticipation_lag2                  -0.000324\n",
            "Negative_lag2_lag3_lag4            -0.000351\n",
            "Positive_lag3                      -0.000416\n",
            "Positive_lag1_lag2                 -0.000416\n",
            "Negative_lag3                      -0.000435\n",
            "Negative_lag1_lag2                 -0.000435\n",
            "Surprise_lag1_lag3                 -0.000460\n",
            "Surprise_lag4                      -0.000460\n",
            "Fear_lag1_lag2                     -0.000461\n",
            "Fear_lag3                          -0.000461\n",
            "Trust_lag3_lag4                    -0.000516\n",
            "Trust_lag1_lag2_lag4               -0.000516\n",
            "Disgust_lag1_lag2_lag3_lag4        -0.000555\n",
            "Surprise_lag2_lag4                 -0.000560\n",
            "Surprise_lag1_lag2_lag3            -0.000560\n",
            "Negative_lag1_lag4                 -0.000579\n",
            "Negative_lag2_lag3                 -0.000579\n",
            "Sadness                            -0.000587\n",
            "Fear_lag1_lag4                     -0.000715\n",
            "Fear_lag2_lag3                     -0.000715\n",
            "Trust_lag2_lag4                    -0.000732\n",
            "Trust_lag1_lag2_lag3               -0.000732\n",
            "Surprise_lag2_lag3_lag4            -0.000843\n",
            "Joy_lag1_lag2                      -0.000920\n",
            "Joy_lag3                           -0.000920\n",
            "Sadness_lag1_lag3_lag4             -0.000967\n",
            "Surprise_lag3_lag4                 -0.000979\n",
            "Surprise_lag1_lag2_lag4            -0.000979\n",
            "Anger_lag1                         -0.001007\n",
            "Anger_lag1_lag3_lag4               -0.001059\n",
            "Anticipation_lag1                  -0.001066\n",
            "Anticipation_lag2_lag3_lag4        -0.001126\n",
            "Joy_lag1_lag3_lag4                 -0.001131\n",
            "Sadness_lag1                       -0.001135\n",
            "Fear_lag1_lag3                     -0.001152\n",
            "Fear_lag4                          -0.001152\n",
            "Surprise_lag2_lag3                 -0.001213\n",
            "Surprise_lag1_lag4                 -0.001213\n",
            "Surprise_lag2                      -0.001248\n",
            "Anger_lag1_lag2_lag3_lag4          -0.001382\n",
            "Disgust_lag1                       -0.001389\n",
            "Joy_lag2                           -0.001415\n",
            "Joy_lag1_lag2_lag3_lag4            -0.001449\n",
            "Anger_lag1_lag2                    -0.001489\n",
            "Anger_lag3                         -0.001489\n",
            "Trust_lag1_lag3                    -0.001661\n",
            "Trust_lag4                         -0.001661\n",
            "Anticipation_lag3_lag4             -0.001676\n",
            "Anticipation_lag1_lag2_lag4        -0.001676\n",
            "Disgust_lag1_lag3_lag4             -0.001773\n",
            "Anticipation_lag1_lag4             -0.001873\n",
            "Anticipation_lag2_lag3             -0.001873\n",
            "Trust_lag2_lag3_lag4               -0.001878\n",
            "Anger_lag1_lag4                    -0.001880\n",
            "Anger_lag2_lag3                    -0.001880\n",
            "Fear                               -0.001995\n",
            "Anticipation_lag1_lag2_lag3        -0.002078\n",
            "Anticipation_lag2_lag4             -0.002078\n",
            "Trust_lag3                         -0.002451\n",
            "Trust_lag1_lag2                    -0.002451\n",
            "Joy_lag1                           -0.002617\n",
            "Disgust_lag2_lag3                  -0.002651\n",
            "Disgust_lag1_lag4                  -0.002651\n",
            "Positive_lag2_lag3_lag4            -0.002711\n",
            "Positive_lag1                      -0.003406\n",
            "Negative                           -0.003688\n",
            "dtype: float64\n"
          ]
        }
      ]
    },
    {
      "cell_type": "code",
      "source": [
        "# Set Pandas options to display all rows and columns\n",
        "pd.set_option(\"display.max_rows\", None, \"display.max_columns\", None)\n",
        "\n",
        "print(\"\\nFeature Importance:\")\n",
        "print(feature_importance)"
      ],
      "metadata": {
        "colab": {
          "base_uri": "https://localhost:8080/"
        },
        "id": "Ew3Ca8XxhgQy",
        "outputId": "b70aefe2-1c42-4314-fea6-bd82447a0d4f"
      },
      "execution_count": null,
      "outputs": [
        {
          "output_type": "stream",
          "name": "stdout",
          "text": [
            "\n",
            "Feature Importance:\n",
            "Disgust_lag1_lag3              0.007259\n",
            "Anger_lag1_lag3                0.006770\n",
            "Disgust_lag1_lag2_lag3         0.006576\n",
            "Joy                            0.005530\n",
            "Fear_lag2                      0.004878\n",
            "Positive_lag1_lag2_lag3        0.003688\n",
            "Surprise                       0.003144\n",
            "Trust_lag2                     0.002997\n",
            "Sadness_lag1_lag3              0.002992\n",
            "Positive_lag1_lag3             0.002864\n",
            "Trust                          0.002749\n",
            "Anger_lag2                     0.002692\n",
            "Anger_lag1_lag2_lag3           0.002613\n",
            "Trust_lag1                     0.002539\n",
            "Negative_lag1                  0.002499\n",
            "Trust_lag2_lag3                0.002485\n",
            "Surprise_lag1_lag2             0.001882\n",
            "Surprise_lag3                  0.001882\n",
            "Anticipation_lag2              0.001796\n",
            "Surprise_lag1                  0.001588\n",
            "Fear_lag1                      0.001366\n",
            "Disgust                        0.001342\n",
            "Joy_lag2_lag3                  0.001249\n",
            "Sadness_lag1_lag2_lag3         0.001181\n",
            "Disgust_lag3                   0.001052\n",
            "Disgust_lag1_lag2              0.001052\n",
            "Sadness_lag2_lag3              0.000568\n",
            "Joy_lag1_lag2_lag3             0.000494\n",
            "Positive_lag2                  0.000452\n",
            "Joy_lag1_lag3                  0.000378\n",
            "Negative_lag1_lag2_lag3        0.000289\n",
            "Positive                       0.000261\n",
            "Surprise_lag1_lag3             0.000191\n",
            "Anger                          0.000174\n",
            "Anticipation_lag3              0.000166\n",
            "Anticipation_lag1_lag2         0.000166\n",
            "Positive_lag3                 -0.000186\n",
            "Positive_lag1_lag2            -0.000186\n",
            "Fear_lag1_lag2                -0.000202\n",
            "Fear_lag3                     -0.000202\n",
            "Negative_lag1_lag3            -0.000272\n",
            "Sadness_lag2                  -0.000319\n",
            "Sadness_lag3                  -0.000375\n",
            "Sadness_lag1_lag2             -0.000375\n",
            "Surprise_lag2_lag3            -0.000431\n",
            "Anticipation_lag1_lag3        -0.000630\n",
            "Sadness                       -0.000720\n",
            "Anticipation                  -0.000849\n",
            "Trust_lag1_lag2_lag3          -0.000928\n",
            "Surprise_lag2                 -0.000978\n",
            "Positive_lag2_lag3            -0.000978\n",
            "Sadness_lag1                  -0.001129\n",
            "Surprise_lag1_lag2_lag3       -0.001276\n",
            "Anger_lag1                    -0.001471\n",
            "Disgust_lag2                  -0.001490\n",
            "Negative_lag2                 -0.001548\n",
            "Anger_lag1_lag2               -0.001593\n",
            "Anger_lag3                    -0.001593\n",
            "Disgust_lag1                  -0.001652\n",
            "Joy_lag1_lag2                 -0.001747\n",
            "Joy_lag3                      -0.001747\n",
            "Trust_lag3                    -0.002083\n",
            "Trust_lag1_lag2               -0.002083\n",
            "Fear_lag2_lag3                -0.002479\n",
            "Trust_lag1_lag3               -0.002701\n",
            "Negative_lag2_lag3            -0.002705\n",
            "Negative_lag1_lag2            -0.002975\n",
            "Negative_lag3                 -0.002975\n",
            "Anticipation_lag1             -0.003004\n",
            "Anticipation_lag2_lag3        -0.003089\n",
            "Positive_lag1                 -0.003165\n",
            "Joy_lag2                      -0.003305\n",
            "Joy_lag1                      -0.003346\n",
            "Fear_lag1_lag2_lag3           -0.003692\n",
            "Fear_lag1_lag3                -0.004391\n",
            "Anger_lag2_lag3               -0.004617\n",
            "Fear                          -0.005021\n",
            "Disgust_lag2_lag3             -0.006200\n",
            "Negative                      -0.006392\n",
            "Anticipation_lag1_lag2_lag3   -0.007050\n",
            "dtype: float64\n"
          ]
        }
      ]
    },
    {
      "cell_type": "markdown",
      "source": [
        "## Time Series Regression Evaluation"
      ],
      "metadata": {
        "id": "t4vTxKkR4ulI"
      }
    },
    {
      "cell_type": "code",
      "source": [
        "from sklearn.metrics import mean_squared_error, r2_score\n",
        "import numpy as np\n",
        "\n",
        "# Calculate RMSE\n",
        "rmse = np.sqrt(mean_squared_error(y_test, y_pred))\n",
        "print(f\"RMSE: {rmse:.2f}\")\n",
        "\n",
        "# Calculate R² Score\n",
        "r2 = r2_score(y_test, y_pred)\n",
        "print(f\"R² Score: {r2:.2f}\")\n"
      ],
      "metadata": {
        "colab": {
          "base_uri": "https://localhost:8080/"
        },
        "id": "X5sWQ3Un4t5E",
        "outputId": "eeff7639-5ade-403f-aac2-89db9aa1e0a0"
      },
      "execution_count": null,
      "outputs": [
        {
          "output_type": "stream",
          "name": "stdout",
          "text": [
            "RMSE: 0.43\n",
            "R² Score: -0.64\n"
          ]
        }
      ]
    },
    {
      "cell_type": "code",
      "source": [
        "baseline_predictions = [y_train.mean()] * len(y_test)\n",
        "baseline_r2 = r2_score(y_test, baseline_predictions)\n",
        "print(f\"Baseline R²: {baseline_r2:.2f}\")\n"
      ],
      "metadata": {
        "colab": {
          "base_uri": "https://localhost:8080/"
        },
        "id": "nO6fde-nCDzv",
        "outputId": "f286631d-8f3d-407d-ee29-0d1e2382414f"
      },
      "execution_count": null,
      "outputs": [
        {
          "output_type": "stream",
          "name": "stdout",
          "text": [
            "Baseline R²: -0.02\n"
          ]
        }
      ]
    },
    {
      "cell_type": "markdown",
      "source": [
        "**Time Series shows the worst test performance among all 3 models**\n",
        "\n",
        "## Now we want to improve its performance by applying regularization (Ridge, Lasso)\n",
        "\n",
        "\n",
        "\n",
        "*   Ridge Regression\n",
        "    * Penalizes large coefficients to reduce model complexity.\n",
        "    * Suitable for handling multicollinearity without dropping features.\n",
        "*   Lasso Regression\n",
        "    * Shrinks some coefficients to zero, effectively performing feature selection.\n",
        "    * Useful for reducing the number of lagged features when many have minimal impact.\n"
      ],
      "metadata": {
        "id": "LyjxirOe9Qzz"
      }
    },
    {
      "cell_type": "markdown",
      "source": [
        "## Season 5 Hypothetical Data and Prediction Script: Simulate Feature Changes of Ratings\n",
        "\n",
        "* Understand how increasing or decreasing important features (e.g., Anger_lag1_lag3) influences ratings."
      ],
      "metadata": {
        "id": "r5tJiYAp3sJR"
      }
    },
    {
      "cell_type": "code",
      "source": [
        "import pandas as pd\n",
        "import numpy as np\n",
        "# Original predictions\n",
        "original_predictions = model.predict(X_test)\n",
        "\n",
        "# Simulate changes: Increase Anger_lag1_lag3 by 10%\n",
        "X_test_simulated = X_test.copy()\n",
        "X_test_simulated['Anger_lag1_lag3'] *= 1.1\n",
        "\n",
        "# Predict with modified features\n",
        "simulated_predictions = model.predict(X_test_simulated)\n",
        "\n",
        "# Compare predictions\n",
        "change_in_ratings = simulated_predictions - original_predictions\n",
        "results = pd.DataFrame({\n",
        "    'Original Ratings': original_predictions,\n",
        "    'Modified Ratings': simulated_predictions,\n",
        "    'Change in Ratings': change_in_ratings\n",
        "})\n",
        "print(results)"
      ],
      "metadata": {
        "colab": {
          "base_uri": "https://localhost:8080/"
        },
        "id": "NDxCcZ-F6ySu",
        "outputId": "498ca2cd-4fd4-49a8-ae66-57abce4bd137"
      },
      "execution_count": null,
      "outputs": [
        {
          "output_type": "stream",
          "name": "stdout",
          "text": [
            "   Original Ratings  Modified Ratings  Change in Ratings\n",
            "0          6.880249          6.887019           0.006770\n",
            "1          6.720912          6.742576           0.021665\n",
            "2          6.486834          6.517976           0.031143\n",
            "3          6.865740          6.877926           0.012186\n",
            "4          6.528356          6.547990           0.019634\n",
            "5          6.038126          6.055729           0.017602\n",
            "6          6.469302          6.486905           0.017602\n",
            "7          6.441398          6.454938           0.013540\n",
            "8          6.933783          6.950709           0.016925\n",
            "9          7.129827          7.147429           0.017602\n"
          ]
        }
      ]
    },
    {
      "cell_type": "markdown",
      "source": [
        "You can see for example when we increase anger_lag1_lge3 by 10%, predicted ratings are predicted to be higher than before.\n",
        "We assume this might be due to increasing audience engagement due to more intense conflicts between characters in the show."
      ],
      "metadata": {
        "id": "GSOOzm934VoZ"
      }
    },
    {
      "cell_type": "markdown",
      "source": [
        "# Model 2: LSTM"
      ],
      "metadata": {
        "id": "IcVGG6vy4bUk"
      }
    },
    {
      "cell_type": "code",
      "source": [
        "import pandas as pd\n",
        "import numpy as np\n",
        "from sklearn.preprocessing import MinMaxScaler\n",
        "from sklearn.metrics import mean_squared_error\n",
        "import tensorflow as tf\n",
        "from tensorflow.keras.models import Sequential\n",
        "from tensorflow.keras.layers import LSTM, Dense, Dropout\n",
        "\n",
        "# Load the dataset\n",
        "data = pd.read_csv('EIPData.csv')\n",
        "\n",
        "# Select features and target\n",
        "emotion_features = [\"Positive\", \"Trust\", \"Joy\", \"Anticipation\", \"Negative\",\n",
        "                    \"Surprise\", \"Sadness\", \"Fear\", \"Anger\", \"Disgust\"]\n",
        "X = data[emotion_features].values\n",
        "y = data['IMDB ratings (out of 10)'].values  # Target variable\n",
        "\n",
        "# Normalize the data\n",
        "scaler_X = MinMaxScaler(feature_range=(0, 1))\n",
        "scaler_y = MinMaxScaler(feature_range=(0, 1))\n",
        "X_scaled = scaler_X.fit_transform(X)\n",
        "y_scaled = scaler_y.fit_transform(y.reshape(-1, 1))\n",
        "\n",
        "# Create sequences for LSTM\n",
        "def create_sequences(X, y, time_steps=3):\n",
        "    X_seq, y_seq = [], []\n",
        "    for i in range(len(X) - time_steps):\n",
        "        X_seq.append(X[i:i + time_steps])\n",
        "        y_seq.append(y[i + time_steps])\n",
        "    return np.array(X_seq), np.array(y_seq)\n",
        "\n",
        "time_steps = 3\n",
        "X_seq, y_seq = create_sequences(X_scaled, y_scaled, time_steps)\n",
        "\n",
        "# Split into training and testing sets\n",
        "split = int(0.8 * len(X_seq))\n",
        "X_train, X_test = X_seq[:split], X_seq[split:]\n",
        "y_train, y_test = y_seq[:split], y_seq[split:]\n",
        "\n",
        "# Build the LSTM model\n",
        "model = Sequential([\n",
        "    LSTM(50, activation='relu', return_sequences=True, input_shape=(time_steps, X_train.shape[2])),\n",
        "    Dropout(0.2),\n",
        "    LSTM(50, activation='relu'),\n",
        "    Dropout(0.2),\n",
        "    Dense(1)  # Output layer for regression\n",
        "])\n",
        "\n",
        "model.compile(optimizer='adam', loss='mse')\n",
        "model.summary()\n",
        "\n",
        "# Train the model\n",
        "history = model.fit(X_train, y_train, epochs=50, batch_size=8, validation_split=0.2, verbose=1)\n",
        "\n",
        "# Evaluate the model\n",
        "y_pred = model.predict(X_test)\n",
        "y_test_rescaled = scaler_y.inverse_transform(y_test)\n",
        "y_pred_rescaled = scaler_y.inverse_transform(y_pred)\n",
        "\n",
        "rmse = np.sqrt(mean_squared_error(y_test_rescaled, y_pred_rescaled))\n",
        "print(f\"Test RMSE: {rmse:.2f}\")\n"
      ],
      "metadata": {
        "colab": {
          "base_uri": "https://localhost:8080/",
          "height": 1000
        },
        "id": "Gs6a_pgz4a1K",
        "outputId": "755ca8c4-0b60-4ac0-cc99-7bb977ee6d1d"
      },
      "execution_count": null,
      "outputs": [
        {
          "output_type": "stream",
          "name": "stderr",
          "text": [
            "/usr/local/lib/python3.10/dist-packages/keras/src/layers/rnn/rnn.py:204: UserWarning: Do not pass an `input_shape`/`input_dim` argument to a layer. When using Sequential models, prefer using an `Input(shape)` object as the first layer in the model instead.\n",
            "  super().__init__(**kwargs)\n"
          ]
        },
        {
          "output_type": "display_data",
          "data": {
            "text/plain": [
              "\u001b[1mModel: \"sequential_1\"\u001b[0m\n"
            ],
            "text/html": [
              "<pre style=\"white-space:pre;overflow-x:auto;line-height:normal;font-family:Menlo,'DejaVu Sans Mono',consolas,'Courier New',monospace\"><span style=\"font-weight: bold\">Model: \"sequential_1\"</span>\n",
              "</pre>\n"
            ]
          },
          "metadata": {}
        },
        {
          "output_type": "display_data",
          "data": {
            "text/plain": [
              "┏━━━━━━━━━━━━━━━━━━━━━━━━━━━━━━━━━━━━━━┳━━━━━━━━━━━━━━━━━━━━━━━━━━━━━┳━━━━━━━━━━━━━━━━━┓\n",
              "┃\u001b[1m \u001b[0m\u001b[1mLayer (type)                        \u001b[0m\u001b[1m \u001b[0m┃\u001b[1m \u001b[0m\u001b[1mOutput Shape               \u001b[0m\u001b[1m \u001b[0m┃\u001b[1m \u001b[0m\u001b[1m        Param #\u001b[0m\u001b[1m \u001b[0m┃\n",
              "┡━━━━━━━━━━━━━━━━━━━━━━━━━━━━━━━━━━━━━━╇━━━━━━━━━━━━━━━━━━━━━━━━━━━━━╇━━━━━━━━━━━━━━━━━┩\n",
              "│ lstm_2 (\u001b[38;5;33mLSTM\u001b[0m)                        │ (\u001b[38;5;45mNone\u001b[0m, \u001b[38;5;34m3\u001b[0m, \u001b[38;5;34m50\u001b[0m)               │          \u001b[38;5;34m12,200\u001b[0m │\n",
              "├──────────────────────────────────────┼─────────────────────────────┼─────────────────┤\n",
              "│ dropout_2 (\u001b[38;5;33mDropout\u001b[0m)                  │ (\u001b[38;5;45mNone\u001b[0m, \u001b[38;5;34m3\u001b[0m, \u001b[38;5;34m50\u001b[0m)               │               \u001b[38;5;34m0\u001b[0m │\n",
              "├──────────────────────────────────────┼─────────────────────────────┼─────────────────┤\n",
              "│ lstm_3 (\u001b[38;5;33mLSTM\u001b[0m)                        │ (\u001b[38;5;45mNone\u001b[0m, \u001b[38;5;34m50\u001b[0m)                  │          \u001b[38;5;34m20,200\u001b[0m │\n",
              "├──────────────────────────────────────┼─────────────────────────────┼─────────────────┤\n",
              "│ dropout_3 (\u001b[38;5;33mDropout\u001b[0m)                  │ (\u001b[38;5;45mNone\u001b[0m, \u001b[38;5;34m50\u001b[0m)                  │               \u001b[38;5;34m0\u001b[0m │\n",
              "├──────────────────────────────────────┼─────────────────────────────┼─────────────────┤\n",
              "│ dense_1 (\u001b[38;5;33mDense\u001b[0m)                      │ (\u001b[38;5;45mNone\u001b[0m, \u001b[38;5;34m1\u001b[0m)                   │              \u001b[38;5;34m51\u001b[0m │\n",
              "└──────────────────────────────────────┴─────────────────────────────┴─────────────────┘\n"
            ],
            "text/html": [
              "<pre style=\"white-space:pre;overflow-x:auto;line-height:normal;font-family:Menlo,'DejaVu Sans Mono',consolas,'Courier New',monospace\">┏━━━━━━━━━━━━━━━━━━━━━━━━━━━━━━━━━━━━━━┳━━━━━━━━━━━━━━━━━━━━━━━━━━━━━┳━━━━━━━━━━━━━━━━━┓\n",
              "┃<span style=\"font-weight: bold\"> Layer (type)                         </span>┃<span style=\"font-weight: bold\"> Output Shape                </span>┃<span style=\"font-weight: bold\">         Param # </span>┃\n",
              "┡━━━━━━━━━━━━━━━━━━━━━━━━━━━━━━━━━━━━━━╇━━━━━━━━━━━━━━━━━━━━━━━━━━━━━╇━━━━━━━━━━━━━━━━━┩\n",
              "│ lstm_2 (<span style=\"color: #0087ff; text-decoration-color: #0087ff\">LSTM</span>)                        │ (<span style=\"color: #00d7ff; text-decoration-color: #00d7ff\">None</span>, <span style=\"color: #00af00; text-decoration-color: #00af00\">3</span>, <span style=\"color: #00af00; text-decoration-color: #00af00\">50</span>)               │          <span style=\"color: #00af00; text-decoration-color: #00af00\">12,200</span> │\n",
              "├──────────────────────────────────────┼─────────────────────────────┼─────────────────┤\n",
              "│ dropout_2 (<span style=\"color: #0087ff; text-decoration-color: #0087ff\">Dropout</span>)                  │ (<span style=\"color: #00d7ff; text-decoration-color: #00d7ff\">None</span>, <span style=\"color: #00af00; text-decoration-color: #00af00\">3</span>, <span style=\"color: #00af00; text-decoration-color: #00af00\">50</span>)               │               <span style=\"color: #00af00; text-decoration-color: #00af00\">0</span> │\n",
              "├──────────────────────────────────────┼─────────────────────────────┼─────────────────┤\n",
              "│ lstm_3 (<span style=\"color: #0087ff; text-decoration-color: #0087ff\">LSTM</span>)                        │ (<span style=\"color: #00d7ff; text-decoration-color: #00d7ff\">None</span>, <span style=\"color: #00af00; text-decoration-color: #00af00\">50</span>)                  │          <span style=\"color: #00af00; text-decoration-color: #00af00\">20,200</span> │\n",
              "├──────────────────────────────────────┼─────────────────────────────┼─────────────────┤\n",
              "│ dropout_3 (<span style=\"color: #0087ff; text-decoration-color: #0087ff\">Dropout</span>)                  │ (<span style=\"color: #00d7ff; text-decoration-color: #00d7ff\">None</span>, <span style=\"color: #00af00; text-decoration-color: #00af00\">50</span>)                  │               <span style=\"color: #00af00; text-decoration-color: #00af00\">0</span> │\n",
              "├──────────────────────────────────────┼─────────────────────────────┼─────────────────┤\n",
              "│ dense_1 (<span style=\"color: #0087ff; text-decoration-color: #0087ff\">Dense</span>)                      │ (<span style=\"color: #00d7ff; text-decoration-color: #00d7ff\">None</span>, <span style=\"color: #00af00; text-decoration-color: #00af00\">1</span>)                   │              <span style=\"color: #00af00; text-decoration-color: #00af00\">51</span> │\n",
              "└──────────────────────────────────────┴─────────────────────────────┴─────────────────┘\n",
              "</pre>\n"
            ]
          },
          "metadata": {}
        },
        {
          "output_type": "display_data",
          "data": {
            "text/plain": [
              "\u001b[1m Total params: \u001b[0m\u001b[38;5;34m32,451\u001b[0m (126.76 KB)\n"
            ],
            "text/html": [
              "<pre style=\"white-space:pre;overflow-x:auto;line-height:normal;font-family:Menlo,'DejaVu Sans Mono',consolas,'Courier New',monospace\"><span style=\"font-weight: bold\"> Total params: </span><span style=\"color: #00af00; text-decoration-color: #00af00\">32,451</span> (126.76 KB)\n",
              "</pre>\n"
            ]
          },
          "metadata": {}
        },
        {
          "output_type": "display_data",
          "data": {
            "text/plain": [
              "\u001b[1m Trainable params: \u001b[0m\u001b[38;5;34m32,451\u001b[0m (126.76 KB)\n"
            ],
            "text/html": [
              "<pre style=\"white-space:pre;overflow-x:auto;line-height:normal;font-family:Menlo,'DejaVu Sans Mono',consolas,'Courier New',monospace\"><span style=\"font-weight: bold\"> Trainable params: </span><span style=\"color: #00af00; text-decoration-color: #00af00\">32,451</span> (126.76 KB)\n",
              "</pre>\n"
            ]
          },
          "metadata": {}
        },
        {
          "output_type": "display_data",
          "data": {
            "text/plain": [
              "\u001b[1m Non-trainable params: \u001b[0m\u001b[38;5;34m0\u001b[0m (0.00 B)\n"
            ],
            "text/html": [
              "<pre style=\"white-space:pre;overflow-x:auto;line-height:normal;font-family:Menlo,'DejaVu Sans Mono',consolas,'Courier New',monospace\"><span style=\"font-weight: bold\"> Non-trainable params: </span><span style=\"color: #00af00; text-decoration-color: #00af00\">0</span> (0.00 B)\n",
              "</pre>\n"
            ]
          },
          "metadata": {}
        },
        {
          "output_type": "stream",
          "name": "stdout",
          "text": [
            "Epoch 1/50\n",
            "\u001b[1m3/3\u001b[0m \u001b[32m━━━━━━━━━━━━━━━━━━━━\u001b[0m\u001b[37m\u001b[0m \u001b[1m4s\u001b[0m 242ms/step - loss: 0.1879 - val_loss: 0.0947\n",
            "Epoch 2/50\n",
            "\u001b[1m3/3\u001b[0m \u001b[32m━━━━━━━━━━━━━━━━━━━━\u001b[0m\u001b[37m\u001b[0m \u001b[1m0s\u001b[0m 37ms/step - loss: 0.2112 - val_loss: 0.0798\n",
            "Epoch 3/50\n",
            "\u001b[1m3/3\u001b[0m \u001b[32m━━━━━━━━━━━━━━━━━━━━\u001b[0m\u001b[37m\u001b[0m \u001b[1m0s\u001b[0m 40ms/step - loss: 0.1690 - val_loss: 0.0654\n",
            "Epoch 4/50\n",
            "\u001b[1m3/3\u001b[0m \u001b[32m━━━━━━━━━━━━━━━━━━━━\u001b[0m\u001b[37m\u001b[0m \u001b[1m0s\u001b[0m 38ms/step - loss: 0.1377 - val_loss: 0.0519\n",
            "Epoch 5/50\n",
            "\u001b[1m3/3\u001b[0m \u001b[32m━━━━━━━━━━━━━━━━━━━━\u001b[0m\u001b[37m\u001b[0m \u001b[1m0s\u001b[0m 31ms/step - loss: 0.1311 - val_loss: 0.0403\n",
            "Epoch 6/50\n",
            "\u001b[1m3/3\u001b[0m \u001b[32m━━━━━━━━━━━━━━━━━━━━\u001b[0m\u001b[37m\u001b[0m \u001b[1m0s\u001b[0m 34ms/step - loss: 0.1097 - val_loss: 0.0334\n",
            "Epoch 7/50\n",
            "\u001b[1m3/3\u001b[0m \u001b[32m━━━━━━━━━━━━━━━━━━━━\u001b[0m\u001b[37m\u001b[0m \u001b[1m0s\u001b[0m 33ms/step - loss: 0.0804 - val_loss: 0.0355\n",
            "Epoch 8/50\n",
            "\u001b[1m3/3\u001b[0m \u001b[32m━━━━━━━━━━━━━━━━━━━━\u001b[0m\u001b[37m\u001b[0m \u001b[1m0s\u001b[0m 44ms/step - loss: 0.0636 - val_loss: 0.0490\n",
            "Epoch 9/50\n",
            "\u001b[1m3/3\u001b[0m \u001b[32m━━━━━━━━━━━━━━━━━━━━\u001b[0m\u001b[37m\u001b[0m \u001b[1m0s\u001b[0m 47ms/step - loss: 0.0643 - val_loss: 0.0696\n",
            "Epoch 10/50\n",
            "\u001b[1m3/3\u001b[0m \u001b[32m━━━━━━━━━━━━━━━━━━━━\u001b[0m\u001b[37m\u001b[0m \u001b[1m0s\u001b[0m 41ms/step - loss: 0.0761 - val_loss: 0.0825\n",
            "Epoch 11/50\n",
            "\u001b[1m3/3\u001b[0m \u001b[32m━━━━━━━━━━━━━━━━━━━━\u001b[0m\u001b[37m\u001b[0m \u001b[1m0s\u001b[0m 35ms/step - loss: 0.0940 - val_loss: 0.0689\n",
            "Epoch 12/50\n",
            "\u001b[1m3/3\u001b[0m \u001b[32m━━━━━━━━━━━━━━━━━━━━\u001b[0m\u001b[37m\u001b[0m \u001b[1m0s\u001b[0m 41ms/step - loss: 0.0613 - val_loss: 0.0574\n",
            "Epoch 13/50\n",
            "\u001b[1m3/3\u001b[0m \u001b[32m━━━━━━━━━━━━━━━━━━━━\u001b[0m\u001b[37m\u001b[0m \u001b[1m0s\u001b[0m 48ms/step - loss: 0.0730 - val_loss: 0.0471\n",
            "Epoch 14/50\n",
            "\u001b[1m3/3\u001b[0m \u001b[32m━━━━━━━━━━━━━━━━━━━━\u001b[0m\u001b[37m\u001b[0m \u001b[1m0s\u001b[0m 39ms/step - loss: 0.0718 - val_loss: 0.0399\n",
            "Epoch 15/50\n",
            "\u001b[1m3/3\u001b[0m \u001b[32m━━━━━━━━━━━━━━━━━━━━\u001b[0m\u001b[37m\u001b[0m \u001b[1m0s\u001b[0m 35ms/step - loss: 0.0765 - val_loss: 0.0363\n",
            "Epoch 16/50\n",
            "\u001b[1m3/3\u001b[0m \u001b[32m━━━━━━━━━━━━━━━━━━━━\u001b[0m\u001b[37m\u001b[0m \u001b[1m0s\u001b[0m 35ms/step - loss: 0.0633 - val_loss: 0.0339\n",
            "Epoch 17/50\n",
            "\u001b[1m3/3\u001b[0m \u001b[32m━━━━━━━━━━━━━━━━━━━━\u001b[0m\u001b[37m\u001b[0m \u001b[1m0s\u001b[0m 38ms/step - loss: 0.0668 - val_loss: 0.0329\n",
            "Epoch 18/50\n",
            "\u001b[1m3/3\u001b[0m \u001b[32m━━━━━━━━━━━━━━━━━━━━\u001b[0m\u001b[37m\u001b[0m \u001b[1m0s\u001b[0m 31ms/step - loss: 0.0698 - val_loss: 0.0330\n",
            "Epoch 19/50\n",
            "\u001b[1m3/3\u001b[0m \u001b[32m━━━━━━━━━━━━━━━━━━━━\u001b[0m\u001b[37m\u001b[0m \u001b[1m0s\u001b[0m 22ms/step - loss: 0.0652 - val_loss: 0.0332\n",
            "Epoch 20/50\n",
            "\u001b[1m3/3\u001b[0m \u001b[32m━━━━━━━━━━━━━━━━━━━━\u001b[0m\u001b[37m\u001b[0m \u001b[1m0s\u001b[0m 20ms/step - loss: 0.0700 - val_loss: 0.0342\n",
            "Epoch 21/50\n",
            "\u001b[1m3/3\u001b[0m \u001b[32m━━━━━━━━━━━━━━━━━━━━\u001b[0m\u001b[37m\u001b[0m \u001b[1m0s\u001b[0m 26ms/step - loss: 0.0723 - val_loss: 0.0345\n",
            "Epoch 22/50\n",
            "\u001b[1m3/3\u001b[0m \u001b[32m━━━━━━━━━━━━━━━━━━━━\u001b[0m\u001b[37m\u001b[0m \u001b[1m0s\u001b[0m 25ms/step - loss: 0.0527 - val_loss: 0.0350\n",
            "Epoch 23/50\n",
            "\u001b[1m3/3\u001b[0m \u001b[32m━━━━━━━━━━━━━━━━━━━━\u001b[0m\u001b[37m\u001b[0m \u001b[1m0s\u001b[0m 22ms/step - loss: 0.0625 - val_loss: 0.0351\n",
            "Epoch 24/50\n",
            "\u001b[1m3/3\u001b[0m \u001b[32m━━━━━━━━━━━━━━━━━━━━\u001b[0m\u001b[37m\u001b[0m \u001b[1m0s\u001b[0m 21ms/step - loss: 0.0589 - val_loss: 0.0344\n",
            "Epoch 25/50\n",
            "\u001b[1m3/3\u001b[0m \u001b[32m━━━━━━━━━━━━━━━━━━━━\u001b[0m\u001b[37m\u001b[0m \u001b[1m0s\u001b[0m 20ms/step - loss: 0.0491 - val_loss: 0.0337\n",
            "Epoch 26/50\n",
            "\u001b[1m3/3\u001b[0m \u001b[32m━━━━━━━━━━━━━━━━━━━━\u001b[0m\u001b[37m\u001b[0m \u001b[1m0s\u001b[0m 20ms/step - loss: 0.0576 - val_loss: 0.0329\n",
            "Epoch 27/50\n",
            "\u001b[1m3/3\u001b[0m \u001b[32m━━━━━━━━━━━━━━━━━━━━\u001b[0m\u001b[37m\u001b[0m \u001b[1m0s\u001b[0m 20ms/step - loss: 0.0600 - val_loss: 0.0333\n",
            "Epoch 28/50\n",
            "\u001b[1m3/3\u001b[0m \u001b[32m━━━━━━━━━━━━━━━━━━━━\u001b[0m\u001b[37m\u001b[0m \u001b[1m0s\u001b[0m 21ms/step - loss: 0.0527 - val_loss: 0.0349\n",
            "Epoch 29/50\n",
            "\u001b[1m3/3\u001b[0m \u001b[32m━━━━━━━━━━━━━━━━━━━━\u001b[0m\u001b[37m\u001b[0m \u001b[1m0s\u001b[0m 22ms/step - loss: 0.0597 - val_loss: 0.0353\n",
            "Epoch 30/50\n",
            "\u001b[1m3/3\u001b[0m \u001b[32m━━━━━━━━━━━━━━━━━━━━\u001b[0m\u001b[37m\u001b[0m \u001b[1m0s\u001b[0m 20ms/step - loss: 0.0745 - val_loss: 0.0348\n",
            "Epoch 31/50\n",
            "\u001b[1m3/3\u001b[0m \u001b[32m━━━━━━━━━━━━━━━━━━━━\u001b[0m\u001b[37m\u001b[0m \u001b[1m0s\u001b[0m 24ms/step - loss: 0.0484 - val_loss: 0.0329\n",
            "Epoch 32/50\n",
            "\u001b[1m3/3\u001b[0m \u001b[32m━━━━━━━━━━━━━━━━━━━━\u001b[0m\u001b[37m\u001b[0m \u001b[1m0s\u001b[0m 23ms/step - loss: 0.0599 - val_loss: 0.0329\n",
            "Epoch 33/50\n",
            "\u001b[1m3/3\u001b[0m \u001b[32m━━━━━━━━━━━━━━━━━━━━\u001b[0m\u001b[37m\u001b[0m \u001b[1m0s\u001b[0m 21ms/step - loss: 0.0375 - val_loss: 0.0303\n",
            "Epoch 34/50\n",
            "\u001b[1m3/3\u001b[0m \u001b[32m━━━━━━━━━━━━━━━━━━━━\u001b[0m\u001b[37m\u001b[0m \u001b[1m0s\u001b[0m 31ms/step - loss: 0.0480 - val_loss: 0.0292\n",
            "Epoch 35/50\n",
            "\u001b[1m3/3\u001b[0m \u001b[32m━━━━━━━━━━━━━━━━━━━━\u001b[0m\u001b[37m\u001b[0m \u001b[1m0s\u001b[0m 23ms/step - loss: 0.0534 - val_loss: 0.0296\n",
            "Epoch 36/50\n",
            "\u001b[1m3/3\u001b[0m \u001b[32m━━━━━━━━━━━━━━━━━━━━\u001b[0m\u001b[37m\u001b[0m \u001b[1m0s\u001b[0m 23ms/step - loss: 0.0433 - val_loss: 0.0289\n",
            "Epoch 37/50\n",
            "\u001b[1m3/3\u001b[0m \u001b[32m━━━━━━━━━━━━━━━━━━━━\u001b[0m\u001b[37m\u001b[0m \u001b[1m0s\u001b[0m 23ms/step - loss: 0.0481 - val_loss: 0.0283\n",
            "Epoch 38/50\n",
            "\u001b[1m3/3\u001b[0m \u001b[32m━━━━━━━━━━━━━━━━━━━━\u001b[0m\u001b[37m\u001b[0m \u001b[1m0s\u001b[0m 22ms/step - loss: 0.0463 - val_loss: 0.0300\n",
            "Epoch 39/50\n",
            "\u001b[1m3/3\u001b[0m \u001b[32m━━━━━━━━━━━━━━━━━━━━\u001b[0m\u001b[37m\u001b[0m \u001b[1m0s\u001b[0m 33ms/step - loss: 0.0373 - val_loss: 0.0296\n",
            "Epoch 40/50\n",
            "\u001b[1m3/3\u001b[0m \u001b[32m━━━━━━━━━━━━━━━━━━━━\u001b[0m\u001b[37m\u001b[0m \u001b[1m0s\u001b[0m 29ms/step - loss: 0.0495 - val_loss: 0.0305\n",
            "Epoch 41/50\n",
            "\u001b[1m3/3\u001b[0m \u001b[32m━━━━━━━━━━━━━━━━━━━━\u001b[0m\u001b[37m\u001b[0m \u001b[1m0s\u001b[0m 23ms/step - loss: 0.0473 - val_loss: 0.0276\n",
            "Epoch 42/50\n",
            "\u001b[1m3/3\u001b[0m \u001b[32m━━━━━━━━━━━━━━━━━━━━\u001b[0m\u001b[37m\u001b[0m \u001b[1m0s\u001b[0m 24ms/step - loss: 0.0348 - val_loss: 0.0287\n",
            "Epoch 43/50\n",
            "\u001b[1m3/3\u001b[0m \u001b[32m━━━━━━━━━━━━━━━━━━━━\u001b[0m\u001b[37m\u001b[0m \u001b[1m0s\u001b[0m 22ms/step - loss: 0.0358 - val_loss: 0.0320\n",
            "Epoch 44/50\n",
            "\u001b[1m3/3\u001b[0m \u001b[32m━━━━━━━━━━━━━━━━━━━━\u001b[0m\u001b[37m\u001b[0m \u001b[1m0s\u001b[0m 24ms/step - loss: 0.0370 - val_loss: 0.0313\n",
            "Epoch 45/50\n",
            "\u001b[1m3/3\u001b[0m \u001b[32m━━━━━━━━━━━━━━━━━━━━\u001b[0m\u001b[37m\u001b[0m \u001b[1m0s\u001b[0m 21ms/step - loss: 0.0531 - val_loss: 0.0320\n",
            "Epoch 46/50\n",
            "\u001b[1m3/3\u001b[0m \u001b[32m━━━━━━━━━━━━━━━━━━━━\u001b[0m\u001b[37m\u001b[0m \u001b[1m0s\u001b[0m 24ms/step - loss: 0.0421 - val_loss: 0.0311\n",
            "Epoch 47/50\n",
            "\u001b[1m3/3\u001b[0m \u001b[32m━━━━━━━━━━━━━━━━━━━━\u001b[0m\u001b[37m\u001b[0m \u001b[1m0s\u001b[0m 22ms/step - loss: 0.0480 - val_loss: 0.0333\n",
            "Epoch 48/50\n",
            "\u001b[1m3/3\u001b[0m \u001b[32m━━━━━━━━━━━━━━━━━━━━\u001b[0m\u001b[37m\u001b[0m \u001b[1m0s\u001b[0m 35ms/step - loss: 0.0359 - val_loss: 0.0324\n",
            "Epoch 49/50\n",
            "\u001b[1m3/3\u001b[0m \u001b[32m━━━━━━━━━━━━━━━━━━━━\u001b[0m\u001b[37m\u001b[0m \u001b[1m0s\u001b[0m 31ms/step - loss: 0.0399 - val_loss: 0.0336\n",
            "Epoch 50/50\n",
            "\u001b[1m3/3\u001b[0m \u001b[32m━━━━━━━━━━━━━━━━━━━━\u001b[0m\u001b[37m\u001b[0m \u001b[1m0s\u001b[0m 22ms/step - loss: 0.0353 - val_loss: 0.0298\n",
            "\u001b[1m1/1\u001b[0m \u001b[32m━━━━━━━━━━━━━━━━━━━━\u001b[0m\u001b[37m\u001b[0m \u001b[1m0s\u001b[0m 283ms/step\n",
            "Test RMSE: 0.36\n"
          ]
        }
      ]
    },
    {
      "cell_type": "markdown",
      "source": [
        "# model 3: Random Forests"
      ],
      "metadata": {
        "id": "dW3srtR0duxV"
      }
    },
    {
      "cell_type": "code",
      "source": [
        "from sklearn.ensemble import RandomForestRegressor\n",
        "from sklearn.model_selection import train_test_split\n",
        "from sklearn.metrics import mean_squared_error, r2_score\n",
        "import pandas as pd\n",
        "import numpy as np\n",
        "\n",
        "# Load the dataset\n",
        "file_path = 'EIPData.csv'  # Replace with your file path\n",
        "data = pd.read_csv(file_path)\n",
        "\n",
        "# Select features and target\n",
        "emotion_features = [\"Positive\", \"Trust\", \"Joy\", \"Anticipation\", \"Negative\",\n",
        "                    \"Surprise\", \"Sadness\", \"Fear\", \"Anger\", \"Disgust\"]\n",
        "X = data[emotion_features]\n",
        "y = data['IMDB ratings (out of 10)']\n",
        "\n",
        "# Split the data into training and testing sets\n",
        "X_train, X_test, y_train, y_test = train_test_split(X, y, test_size=0.25, random_state=42, shuffle=False)\n",
        "\n",
        "# Train the Random Forest Regressor\n",
        "rf_model = RandomForestRegressor(n_estimators=100, random_state=42)\n",
        "rf_model.fit(X_train, y_train)\n",
        "\n",
        "# Make predictions\n",
        "y_pred = rf_model.predict(X_test)\n",
        "\n",
        "# Evaluate the model\n",
        "rmse = np.sqrt(mean_squared_error(y_test, y_pred))\n",
        "r2 = r2_score(y_test, y_pred)\n",
        "\n",
        "# Feature Importance\n",
        "feature_importance = pd.Series(rf_model.feature_importances_, index=emotion_features).sort_values(ascending=False)\n",
        "\n",
        "# Output results\n",
        "print(f\"RMSE: {rmse:.2f}\")\n",
        "print(f\"R^2 Score: {r2:.2f}\")\n",
        "print(\"\\nFeature Importance:\")\n",
        "print(feature_importance)\n"
      ],
      "metadata": {
        "id": "vvi9mUdz3rIs",
        "colab": {
          "base_uri": "https://localhost:8080/",
          "height": 350
        },
        "outputId": "baaea9ba-46d5-4295-fc06-9fbac192ea5b"
      },
      "execution_count": null,
      "outputs": [
        {
          "output_type": "error",
          "ename": "FileNotFoundError",
          "evalue": "[Errno 2] No such file or directory: 'EIPData.csv'",
          "traceback": [
            "\u001b[0;31m---------------------------------------------------------------------------\u001b[0m",
            "\u001b[0;31mFileNotFoundError\u001b[0m                         Traceback (most recent call last)",
            "\u001b[0;32m<ipython-input-1-5d11b07397a3>\u001b[0m in \u001b[0;36m<cell line: 9>\u001b[0;34m()\u001b[0m\n\u001b[1;32m      7\u001b[0m \u001b[0;31m# Load the dataset\u001b[0m\u001b[0;34m\u001b[0m\u001b[0;34m\u001b[0m\u001b[0m\n\u001b[1;32m      8\u001b[0m \u001b[0mfile_path\u001b[0m \u001b[0;34m=\u001b[0m \u001b[0;34m'EIPData.csv'\u001b[0m  \u001b[0;31m# Replace with your file path\u001b[0m\u001b[0;34m\u001b[0m\u001b[0;34m\u001b[0m\u001b[0m\n\u001b[0;32m----> 9\u001b[0;31m \u001b[0mdata\u001b[0m \u001b[0;34m=\u001b[0m \u001b[0mpd\u001b[0m\u001b[0;34m.\u001b[0m\u001b[0mread_csv\u001b[0m\u001b[0;34m(\u001b[0m\u001b[0mfile_path\u001b[0m\u001b[0;34m)\u001b[0m\u001b[0;34m\u001b[0m\u001b[0;34m\u001b[0m\u001b[0m\n\u001b[0m\u001b[1;32m     10\u001b[0m \u001b[0;34m\u001b[0m\u001b[0m\n\u001b[1;32m     11\u001b[0m \u001b[0;31m# Select features and target\u001b[0m\u001b[0;34m\u001b[0m\u001b[0;34m\u001b[0m\u001b[0m\n",
            "\u001b[0;32m/usr/local/lib/python3.10/dist-packages/pandas/io/parsers/readers.py\u001b[0m in \u001b[0;36mread_csv\u001b[0;34m(filepath_or_buffer, sep, delimiter, header, names, index_col, usecols, dtype, engine, converters, true_values, false_values, skipinitialspace, skiprows, skipfooter, nrows, na_values, keep_default_na, na_filter, verbose, skip_blank_lines, parse_dates, infer_datetime_format, keep_date_col, date_parser, date_format, dayfirst, cache_dates, iterator, chunksize, compression, thousands, decimal, lineterminator, quotechar, quoting, doublequote, escapechar, comment, encoding, encoding_errors, dialect, on_bad_lines, delim_whitespace, low_memory, memory_map, float_precision, storage_options, dtype_backend)\u001b[0m\n\u001b[1;32m   1024\u001b[0m     \u001b[0mkwds\u001b[0m\u001b[0;34m.\u001b[0m\u001b[0mupdate\u001b[0m\u001b[0;34m(\u001b[0m\u001b[0mkwds_defaults\u001b[0m\u001b[0;34m)\u001b[0m\u001b[0;34m\u001b[0m\u001b[0;34m\u001b[0m\u001b[0m\n\u001b[1;32m   1025\u001b[0m \u001b[0;34m\u001b[0m\u001b[0m\n\u001b[0;32m-> 1026\u001b[0;31m     \u001b[0;32mreturn\u001b[0m \u001b[0m_read\u001b[0m\u001b[0;34m(\u001b[0m\u001b[0mfilepath_or_buffer\u001b[0m\u001b[0;34m,\u001b[0m \u001b[0mkwds\u001b[0m\u001b[0;34m)\u001b[0m\u001b[0;34m\u001b[0m\u001b[0;34m\u001b[0m\u001b[0m\n\u001b[0m\u001b[1;32m   1027\u001b[0m \u001b[0;34m\u001b[0m\u001b[0m\n\u001b[1;32m   1028\u001b[0m \u001b[0;34m\u001b[0m\u001b[0m\n",
            "\u001b[0;32m/usr/local/lib/python3.10/dist-packages/pandas/io/parsers/readers.py\u001b[0m in \u001b[0;36m_read\u001b[0;34m(filepath_or_buffer, kwds)\u001b[0m\n\u001b[1;32m    618\u001b[0m \u001b[0;34m\u001b[0m\u001b[0m\n\u001b[1;32m    619\u001b[0m     \u001b[0;31m# Create the parser.\u001b[0m\u001b[0;34m\u001b[0m\u001b[0;34m\u001b[0m\u001b[0m\n\u001b[0;32m--> 620\u001b[0;31m     \u001b[0mparser\u001b[0m \u001b[0;34m=\u001b[0m \u001b[0mTextFileReader\u001b[0m\u001b[0;34m(\u001b[0m\u001b[0mfilepath_or_buffer\u001b[0m\u001b[0;34m,\u001b[0m \u001b[0;34m**\u001b[0m\u001b[0mkwds\u001b[0m\u001b[0;34m)\u001b[0m\u001b[0;34m\u001b[0m\u001b[0;34m\u001b[0m\u001b[0m\n\u001b[0m\u001b[1;32m    621\u001b[0m \u001b[0;34m\u001b[0m\u001b[0m\n\u001b[1;32m    622\u001b[0m     \u001b[0;32mif\u001b[0m \u001b[0mchunksize\u001b[0m \u001b[0;32mor\u001b[0m \u001b[0miterator\u001b[0m\u001b[0;34m:\u001b[0m\u001b[0;34m\u001b[0m\u001b[0;34m\u001b[0m\u001b[0m\n",
            "\u001b[0;32m/usr/local/lib/python3.10/dist-packages/pandas/io/parsers/readers.py\u001b[0m in \u001b[0;36m__init__\u001b[0;34m(self, f, engine, **kwds)\u001b[0m\n\u001b[1;32m   1618\u001b[0m \u001b[0;34m\u001b[0m\u001b[0m\n\u001b[1;32m   1619\u001b[0m         \u001b[0mself\u001b[0m\u001b[0;34m.\u001b[0m\u001b[0mhandles\u001b[0m\u001b[0;34m:\u001b[0m \u001b[0mIOHandles\u001b[0m \u001b[0;34m|\u001b[0m \u001b[0;32mNone\u001b[0m \u001b[0;34m=\u001b[0m \u001b[0;32mNone\u001b[0m\u001b[0;34m\u001b[0m\u001b[0;34m\u001b[0m\u001b[0m\n\u001b[0;32m-> 1620\u001b[0;31m         \u001b[0mself\u001b[0m\u001b[0;34m.\u001b[0m\u001b[0m_engine\u001b[0m \u001b[0;34m=\u001b[0m \u001b[0mself\u001b[0m\u001b[0;34m.\u001b[0m\u001b[0m_make_engine\u001b[0m\u001b[0;34m(\u001b[0m\u001b[0mf\u001b[0m\u001b[0;34m,\u001b[0m \u001b[0mself\u001b[0m\u001b[0;34m.\u001b[0m\u001b[0mengine\u001b[0m\u001b[0;34m)\u001b[0m\u001b[0;34m\u001b[0m\u001b[0;34m\u001b[0m\u001b[0m\n\u001b[0m\u001b[1;32m   1621\u001b[0m \u001b[0;34m\u001b[0m\u001b[0m\n\u001b[1;32m   1622\u001b[0m     \u001b[0;32mdef\u001b[0m \u001b[0mclose\u001b[0m\u001b[0;34m(\u001b[0m\u001b[0mself\u001b[0m\u001b[0;34m)\u001b[0m \u001b[0;34m->\u001b[0m \u001b[0;32mNone\u001b[0m\u001b[0;34m:\u001b[0m\u001b[0;34m\u001b[0m\u001b[0;34m\u001b[0m\u001b[0m\n",
            "\u001b[0;32m/usr/local/lib/python3.10/dist-packages/pandas/io/parsers/readers.py\u001b[0m in \u001b[0;36m_make_engine\u001b[0;34m(self, f, engine)\u001b[0m\n\u001b[1;32m   1878\u001b[0m                 \u001b[0;32mif\u001b[0m \u001b[0;34m\"b\"\u001b[0m \u001b[0;32mnot\u001b[0m \u001b[0;32min\u001b[0m \u001b[0mmode\u001b[0m\u001b[0;34m:\u001b[0m\u001b[0;34m\u001b[0m\u001b[0;34m\u001b[0m\u001b[0m\n\u001b[1;32m   1879\u001b[0m                     \u001b[0mmode\u001b[0m \u001b[0;34m+=\u001b[0m \u001b[0;34m\"b\"\u001b[0m\u001b[0;34m\u001b[0m\u001b[0;34m\u001b[0m\u001b[0m\n\u001b[0;32m-> 1880\u001b[0;31m             self.handles = get_handle(\n\u001b[0m\u001b[1;32m   1881\u001b[0m                 \u001b[0mf\u001b[0m\u001b[0;34m,\u001b[0m\u001b[0;34m\u001b[0m\u001b[0;34m\u001b[0m\u001b[0m\n\u001b[1;32m   1882\u001b[0m                 \u001b[0mmode\u001b[0m\u001b[0;34m,\u001b[0m\u001b[0;34m\u001b[0m\u001b[0;34m\u001b[0m\u001b[0m\n",
            "\u001b[0;32m/usr/local/lib/python3.10/dist-packages/pandas/io/common.py\u001b[0m in \u001b[0;36mget_handle\u001b[0;34m(path_or_buf, mode, encoding, compression, memory_map, is_text, errors, storage_options)\u001b[0m\n\u001b[1;32m    871\u001b[0m         \u001b[0;32mif\u001b[0m \u001b[0mioargs\u001b[0m\u001b[0;34m.\u001b[0m\u001b[0mencoding\u001b[0m \u001b[0;32mand\u001b[0m \u001b[0;34m\"b\"\u001b[0m \u001b[0;32mnot\u001b[0m \u001b[0;32min\u001b[0m \u001b[0mioargs\u001b[0m\u001b[0;34m.\u001b[0m\u001b[0mmode\u001b[0m\u001b[0;34m:\u001b[0m\u001b[0;34m\u001b[0m\u001b[0;34m\u001b[0m\u001b[0m\n\u001b[1;32m    872\u001b[0m             \u001b[0;31m# Encoding\u001b[0m\u001b[0;34m\u001b[0m\u001b[0;34m\u001b[0m\u001b[0m\n\u001b[0;32m--> 873\u001b[0;31m             handle = open(\n\u001b[0m\u001b[1;32m    874\u001b[0m                 \u001b[0mhandle\u001b[0m\u001b[0;34m,\u001b[0m\u001b[0;34m\u001b[0m\u001b[0;34m\u001b[0m\u001b[0m\n\u001b[1;32m    875\u001b[0m                 \u001b[0mioargs\u001b[0m\u001b[0;34m.\u001b[0m\u001b[0mmode\u001b[0m\u001b[0;34m,\u001b[0m\u001b[0;34m\u001b[0m\u001b[0;34m\u001b[0m\u001b[0m\n",
            "\u001b[0;31mFileNotFoundError\u001b[0m: [Errno 2] No such file or directory: 'EIPData.csv'"
          ]
        }
      ]
    },
    {
      "cell_type": "code",
      "source": [
        "# Assuming the trained model from previous steps is available as 'model'\n",
        "\n",
        "# Generate synthetic test data for Season 5\n",
        "season_5_test_data = {\n",
        "    \"Positive\": np.random.randint(50, 100, size=10),\n",
        "    \"Trust\": np.random.randint(30, 80, size=10),\n",
        "    \"Joy\": np.random.randint(40, 90, size=10),\n",
        "    \"Anticipation\": np.random.randint(20, 70, size=10),\n",
        "    \"Negative\": np.random.randint(10, 50, size=10),\n",
        "    \"Surprise\": np.random.randint(20, 60, size=10),\n",
        "    \"Sadness\": np.random.randint(10, 40, size=10),\n",
        "    \"Fear\": np.random.randint(10, 30, size=10),\n",
        "    \"Anger\": np.random.randint(5, 25, size=10),\n",
        "    \"Disgust\": np.random.randint(5, 15, size=10),\n",
        "}\n",
        "\n",
        "# Convert to DataFrame\n",
        "season_5_test_df = pd.DataFrame(season_5_test_data)\n",
        "\n",
        "# Predict ratings for Season 5\n",
        "season_5_test_df['Predicted_Rating'] = rf_model.predict(season_5_test_df)\n",
        "\n",
        "# Display the test data with predicted ratings\n",
        "print(season_5_test_df)\n"
      ],
      "metadata": {
        "colab": {
          "base_uri": "https://localhost:8080/"
        },
        "id": "296x2S4PffdV",
        "outputId": "56139961-123c-47b0-9ba7-35eafcff7db5"
      },
      "execution_count": null,
      "outputs": [
        {
          "output_type": "stream",
          "name": "stdout",
          "text": [
            "   Positive  Trust  Joy  Anticipation  Negative  Surprise  Sadness  Fear  \\\n",
            "0        66     40   76            49        46        48       31    11   \n",
            "1        69     49   70            28        42        58       11    18   \n",
            "2        58     34   46            47        48        23       23    13   \n",
            "3        82     46   71            68        25        46       23    13   \n",
            "4        64     71   64            60        40        21       25    29   \n",
            "5        88     65   81            23        26        40       33    14   \n",
            "6        93     54   86            44        12        42       10    27   \n",
            "7        59     63   54            61        23        39       27    17   \n",
            "8        90     66   72            24        46        21       37    22   \n",
            "9        84     47   85            35        33        33       30    11   \n",
            "\n",
            "   Anger  Disgust  Predicted_Rating  \n",
            "0     13       12          7.158233  \n",
            "1     10       10          7.058017  \n",
            "2     13       14          7.105500  \n",
            "3     16       14          7.139167  \n",
            "4     13       10          7.009261  \n",
            "5      7        8          7.158250  \n",
            "6      5       14          6.992000  \n",
            "7     17        8          7.082767  \n",
            "8     21       14          6.924825  \n",
            "9     17       12          7.163150  \n"
          ]
        }
      ]
    },
    {
      "cell_type": "code",
      "source": [
        "from sklearn.ensemble import RandomForestRegressor\n",
        "from sklearn.linear_model import Ridge\n",
        "from sklearn.metrics import mean_squared_error, r2_score\n",
        "import xgboost as xgb\n",
        "from keras.models import Sequential\n",
        "from keras.layers import LSTM, Dense\n",
        "\n",
        "# Train-test split (assuming X and y are preprocessed)\n",
        "X_train, X_test, y_train, y_test = train_test_split(X, y, test_size=0.25, random_state=42, shuffle=False)\n",
        "\n",
        "# Ridge Regression\n",
        "ridge = Ridge(alpha=1.0)\n",
        "ridge.fit(X_train, y_train)\n",
        "ridge_pred = ridge.predict(X_test)\n",
        "ridge_rmse = np.sqrt(mean_squared_error(y_test, ridge_pred))\n",
        "ridge_r2 = r2_score(y_test, ridge_pred)\n",
        "\n",
        "# Random Forest\n",
        "rf = RandomForestRegressor(n_estimators=100, random_state=42)\n",
        "rf.fit(X_train, y_train)\n",
        "rf_pred = rf.predict(X_test)\n",
        "rf_rmse = np.sqrt(mean_squared_error(y_test, rf_pred))\n",
        "rf_r2 = r2_score(y_test, rf_pred)\n",
        "\n",
        "# Gradient Boosting (XGBoost)\n",
        "xgb_model = xgb.XGBRegressor(n_estimators=100, learning_rate=0.1, max_depth=5)\n",
        "xgb_model.fit(X_train, y_train)\n",
        "xgb_pred = xgb_model.predict(X_test)\n",
        "xgb_rmse = np.sqrt(mean_squared_error(y_test, xgb_pred))\n",
        "xgb_r2 = r2_score(y_test, xgb_pred)\n",
        "\n",
        "# LSTM (requires reshaping X for sequential data)\n",
        "X_train_seq = X_train.values.reshape((X_train.shape[0], X_train.shape[1], 1))\n",
        "X_test_seq = X_test.values.reshape((X_test.shape[0], X_test.shape[1], 1))\n",
        "\n",
        "lstm_model = Sequential([\n",
        "    LSTM(50, return_sequences=True, input_shape=(X_train_seq.shape[1], 1)),\n",
        "    LSTM(50),\n",
        "    Dense(1)\n",
        "])\n",
        "lstm_model.compile(optimizer='adam', loss='mse')\n",
        "lstm_model.fit(X_train_seq, y_train, epochs=50, batch_size=32, verbose=0)\n",
        "lstm_pred = lstm_model.predict(X_test_seq).flatten()\n",
        "lstm_rmse = np.sqrt(mean_squared_error(y_test, lstm_pred))\n",
        "lstm_r2 = r2_score(y_test, lstm_pred)\n",
        "\n",
        "# Compare Results\n",
        "print(f\"Ridge RMSE: {ridge_rmse:.2f}, R^2: {ridge_r2:.2f}\")\n",
        "print(f\"Random Forest RMSE: {rf_rmse:.2f}, R^2: {rf_r2:.2f}\")\n",
        "print(f\"XGBoost RMSE: {xgb_rmse:.2f}, R^2: {xgb_r2:.2f}\")\n",
        "print(f\"LSTM RMSE: {lstm_rmse:.2f}, R^2: {lstm_r2:.2f}\")\n"
      ],
      "metadata": {
        "colab": {
          "base_uri": "https://localhost:8080/"
        },
        "id": "MSWGrIxdFyTy",
        "outputId": "59473e06-4336-4dd1-b6ba-d7a612d7a943"
      },
      "execution_count": null,
      "outputs": [
        {
          "output_type": "stream",
          "name": "stderr",
          "text": [
            "/usr/local/lib/python3.10/dist-packages/keras/src/layers/rnn/rnn.py:204: UserWarning: Do not pass an `input_shape`/`input_dim` argument to a layer. When using Sequential models, prefer using an `Input(shape)` object as the first layer in the model instead.\n",
            "  super().__init__(**kwargs)\n"
          ]
        },
        {
          "output_type": "stream",
          "name": "stdout",
          "text": [
            "\u001b[1m1/1\u001b[0m \u001b[32m━━━━━━━━━━━━━━━━━━━━\u001b[0m\u001b[37m\u001b[0m \u001b[1m0s\u001b[0m 290ms/step\n",
            "Ridge RMSE: 0.44, R^2: -0.69\n",
            "Random Forest RMSE: 0.33, R^2: 0.06\n",
            "XGBoost RMSE: 0.36, R^2: -0.11\n",
            "LSTM RMSE: 0.57, R^2: -1.84\n"
          ]
        }
      ]
    },
    {
      "cell_type": "markdown",
      "source": [
        "We will select Random Forest in this case as it has the lowest RMSE and highest R^2"
      ],
      "metadata": {
        "id": "FleyYtdkGP9p"
      }
    },
    {
      "cell_type": "markdown",
      "source": [
        "# Random Forest Modeling"
      ],
      "metadata": {
        "id": "CLa-nb_3HaU4"
      }
    },
    {
      "cell_type": "code",
      "source": [
        "# prompt: generate model results for Random Forests, for example, show the most important features affecting ratings (can you make the output look better)\n",
        "\n",
        "import pandas as pd\n",
        "import numpy as np\n",
        "from sklearn.ensemble import RandomForestRegressor\n",
        "from sklearn.model_selection import train_test_split\n",
        "from sklearn.metrics import mean_squared_error, r2_score\n",
        "\n",
        "# Load the dataset\n",
        "file_path = 'EIPData.csv'  # Replace with your file path\n",
        "data = pd.read_csv(file_path)\n",
        "\n",
        "# Select features and target\n",
        "emotion_features = [\"Positive\", \"Trust\", \"Joy\", \"Anticipation\", \"Negative\",\n",
        "                    \"Surprise\", \"Sadness\", \"Fear\", \"Anger\", \"Disgust\"]\n",
        "X = data[emotion_features]\n",
        "y = data['IMDB ratings (out of 10)']\n",
        "\n",
        "# Split the data into training and testing sets\n",
        "X_train, X_test, y_train, y_test = train_test_split(X, y, test_size=0.25, random_state=42, shuffle=False)\n",
        "\n",
        "# Train the Random Forest Regressor\n",
        "rf_model = RandomForestRegressor(n_estimators=100, random_state=42)\n",
        "rf_model.fit(X_train, y_train)\n",
        "\n",
        "# Make predictions\n",
        "y_pred = rf_model.predict(X_test)\n",
        "\n",
        "# Evaluate the model\n",
        "rmse = np.sqrt(mean_squared_error(y_test, y_pred))\n",
        "r2 = r2_score(y_test, y_pred)\n",
        "\n",
        "# Feature Importance\n",
        "feature_importance = pd.Series(rf_model.feature_importances_, index=emotion_features).sort_values(ascending=False)\n",
        "\n",
        "# Output results\n",
        "print(f\"RMSE: {rmse:.2f}\")\n",
        "print(f\"R^2 Score: {r2:.2f}\")\n",
        "\n",
        "print(\"\\nFeature Importance (Random Forest):\")\n",
        "print(feature_importance.to_string()) # Use to_string for better formatting"
      ],
      "metadata": {
        "colab": {
          "base_uri": "https://localhost:8080/"
        },
        "id": "2a-lxEwUHZ8l",
        "outputId": "e7f3ac48-afe2-4ab4-f75e-98eafe0247a2"
      },
      "execution_count": null,
      "outputs": [
        {
          "output_type": "stream",
          "name": "stdout",
          "text": [
            "RMSE: 0.35\n",
            "R^2 Score: -0.06\n",
            "\n",
            "Feature Importance (Random Forest):\n",
            "Positive        0.210496\n",
            "Fear            0.136893\n",
            "Disgust         0.129797\n",
            "Surprise        0.104712\n",
            "Negative        0.098871\n",
            "Trust           0.086823\n",
            "Anger           0.084126\n",
            "Joy             0.067909\n",
            "Anticipation    0.049358\n",
            "Sadness         0.031015\n"
          ]
        }
      ]
    },
    {
      "cell_type": "code",
      "source": [
        "# prompt: can you create a pretty visualization to show the output result of the feature importance (random forest), can you make more important feature more purple and less important feature another color\n",
        "\n",
        "import matplotlib.pyplot as plt\n",
        "import seaborn as sns\n",
        "\n",
        "# Assuming 'feature_importance' is already calculated from your Random Forest model\n",
        "# Example feature_importance (replace with your actual data):\n",
        "# feature_importance = pd.Series({'Joy': 0.3, 'Anger': 0.2, 'Sadness': 0.15, 'Trust': 0.12, 'Fear': 0.1, 'Positive': 0.08, 'Anticipation': 0.05})\n",
        "\n",
        "# Normalize the feature importances for color mapping\n",
        "normalized_importance = feature_importance / feature_importance.max()\n",
        "\n",
        "# Create the bar plot\n",
        "plt.figure(figsize=(10, 6))\n",
        "sns.barplot(x=feature_importance.index, y=feature_importance.values, palette=\"viridis\") # Use viridis palette\n",
        "plt.xticks(rotation=45, ha='right')\n",
        "plt.xlabel(\"Features\")\n",
        "plt.ylabel(\"Feature Importance\")\n",
        "plt.title(\"Feature Importance (Random Forest)\")\n",
        "\n",
        "# Add color mapping\n",
        "for i, v in enumerate(feature_importance):\n",
        "  color = plt.cm.Purples(normalized_importance[i]) # Purple for higher importance\n",
        "  plt.text(i, v + 0.01, f\"{v:.3f}\", ha='center', va='bottom', color=color) # Show the value and map to color\n",
        "\n",
        "plt.tight_layout()\n",
        "plt.show()"
      ],
      "metadata": {
        "colab": {
          "base_uri": "https://localhost:8080/",
          "height": 746
        },
        "id": "G8ZkZBzJGDuC",
        "outputId": "45f944ef-5b3b-46f2-a3e1-82fb7c31a916"
      },
      "execution_count": null,
      "outputs": [
        {
          "output_type": "stream",
          "name": "stderr",
          "text": [
            "<ipython-input-38-add063a5c500>:15: FutureWarning: \n",
            "\n",
            "Passing `palette` without assigning `hue` is deprecated and will be removed in v0.14.0. Assign the `x` variable to `hue` and set `legend=False` for the same effect.\n",
            "\n",
            "  sns.barplot(x=feature_importance.index, y=feature_importance.values, palette=\"viridis\") # Use viridis palette\n",
            "<ipython-input-38-add063a5c500>:23: FutureWarning: Series.__getitem__ treating keys as positions is deprecated. In a future version, integer keys will always be treated as labels (consistent with DataFrame behavior). To access a value by position, use `ser.iloc[pos]`\n",
            "  color = plt.cm.Purples(normalized_importance[i]) # Purple for higher importance\n"
          ]
        },
        {
          "output_type": "display_data",
          "data": {
            "text/plain": [
              "<Figure size 1000x600 with 1 Axes>"
            ],
            "image/png": "[encoded data removed]"
          },
          "metadata": {}
        }
      ]
    }
  ],
  "metadata": {
    "colab": {
      "collapsed_sections": [
        "jHSxaJ82gGWY",
        "4ebi_B7Umalw"
      ],
      "provenance": []
    },
    "kernelspec": {
      "display_name": "Python 3",
      "name": "python3"
    },
    "language_info": {
      "name": "python"
    }
  },
  "nbformat": 4,
  "nbformat_minor": 0
}